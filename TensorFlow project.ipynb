{
 "cells": [
  {
   "cell_type": "markdown",
   "id": "dfeb81a2",
   "metadata": {},
   "source": [
    "# TensorFlow project"
   ]
  },
  {
   "cell_type": "markdown",
   "id": "d2cb3c4b",
   "metadata": {},
   "source": [
    "## Background\n",
    "\n",
    "LendingClub is a US peer-to-peer lending company, headquartered in San Francisco, California.[3] It was the first peer-to-peer lender to register its offerings as securities with the Securities and Exchange Commission (SEC), and to offer loan trading on a secondary market. LendingClub is the world's largest peer-to-peer lending platform.\n",
    "\n",
    "### Our Goal\n",
    "\n",
    "Given historical data on loans given out with information on whether or not the borrower defaulted (charge-off), can we build a model thatcan predict wether or nor a borrower will pay back their loan? This way in the future when we get a new potential customer we can assess whether or not they are likely to pay back the loan. Keep in mind classification metrics when evaluating the performance of your model!\n",
    "\n",
    "The \"loan_status\" column contains our label.\n",
    "\n",
    "### Data Overview"
   ]
  },
  {
   "cell_type": "markdown",
   "id": "b494cb31",
   "metadata": {},
   "source": [
    "----\n",
    "-----\n",
    "There are many LendingClub data sets on Kaggle. Here is the information on this particular data set:\n",
    "\n",
    "<table border=\"1\" class=\"dataframe\">\n",
    "  <thead>\n",
    "    <tr style=\"text-align: right;\">\n",
    "      <th></th>\n",
    "      <th>LoanStatNew</th>\n",
    "      <th>Description</th>\n",
    "    </tr>\n",
    "  </thead>\n",
    "  <tbody>\n",
    "    <tr>\n",
    "      <th>0</th>\n",
    "      <td>loan_amnt</td>\n",
    "      <td>The listed amount of the loan applied for by the borrower. If at some point in time, the credit department reduces the loan amount, then it will be reflected in this value.</td>\n",
    "    </tr>\n",
    "    <tr>\n",
    "      <th>1</th>\n",
    "      <td>term</td>\n",
    "      <td>The number of payments on the loan. Values are in months and can be either 36 or 60.</td>\n",
    "    </tr>\n",
    "    <tr>\n",
    "      <th>2</th>\n",
    "      <td>int_rate</td>\n",
    "      <td>Interest Rate on the loan</td>\n",
    "    </tr>\n",
    "    <tr>\n",
    "      <th>3</th>\n",
    "      <td>installment</td>\n",
    "      <td>The monthly payment owed by the borrower if the loan originates.</td>\n",
    "    </tr>\n",
    "    <tr>\n",
    "      <th>4</th>\n",
    "      <td>grade</td>\n",
    "      <td>LC assigned loan grade</td>\n",
    "    </tr>\n",
    "    <tr>\n",
    "      <th>5</th>\n",
    "      <td>sub_grade</td>\n",
    "      <td>LC assigned loan subgrade</td>\n",
    "    </tr>\n",
    "    <tr>\n",
    "      <th>6</th>\n",
    "      <td>emp_title</td>\n",
    "      <td>The job title supplied by the Borrower when applying for the loan.*</td>\n",
    "    </tr>\n",
    "    <tr>\n",
    "      <th>7</th>\n",
    "      <td>emp_length</td>\n",
    "      <td>Employment length in years. Possible values are between 0 and 10 where 0 means less than one year and 10 means ten or more years.</td>\n",
    "    </tr>\n",
    "    <tr>\n",
    "      <th>8</th>\n",
    "      <td>home_ownership</td>\n",
    "      <td>The home ownership status provided by the borrower during registration or obtained from the credit report. Our values are: RENT, OWN, MORTGAGE, OTHER</td>\n",
    "    </tr>\n",
    "    <tr>\n",
    "      <th>9</th>\n",
    "      <td>annual_inc</td>\n",
    "      <td>The self-reported annual income provided by the borrower during registration.</td>\n",
    "    </tr>\n",
    "    <tr>\n",
    "      <th>10</th>\n",
    "      <td>verification_status</td>\n",
    "      <td>Indicates if income was verified by LC, not verified, or if the income source was verified</td>\n",
    "    </tr>\n",
    "    <tr>\n",
    "      <th>11</th>\n",
    "      <td>issue_d</td>\n",
    "      <td>The month which the loan was funded</td>\n",
    "    </tr>\n",
    "    <tr>\n",
    "      <th>12</th>\n",
    "      <td>loan_status</td>\n",
    "      <td>Current status of the loan</td>\n",
    "    </tr>\n",
    "    <tr>\n",
    "      <th>13</th>\n",
    "      <td>purpose</td>\n",
    "      <td>A category provided by the borrower for the loan request.</td>\n",
    "    </tr>\n",
    "    <tr>\n",
    "      <th>14</th>\n",
    "      <td>title</td>\n",
    "      <td>The loan title provided by the borrower</td>\n",
    "    </tr>\n",
    "    <tr>\n",
    "      <th>15</th>\n",
    "      <td>zip_code</td>\n",
    "      <td>The first 3 numbers of the zip code provided by the borrower in the loan application.</td>\n",
    "    </tr>\n",
    "    <tr>\n",
    "      <th>16</th>\n",
    "      <td>addr_state</td>\n",
    "      <td>The state provided by the borrower in the loan application</td>\n",
    "    </tr>\n",
    "    <tr>\n",
    "      <th>17</th>\n",
    "      <td>dti</td>\n",
    "      <td>A ratio calculated using the borrower’s total monthly debt payments on the total debt obligations, excluding mortgage and the requested LC loan, divided by the borrower’s self-reported monthly income.</td>\n",
    "    </tr>\n",
    "    <tr>\n",
    "      <th>18</th>\n",
    "      <td>earliest_cr_line</td>\n",
    "      <td>The month the borrower's earliest reported credit line was opened</td>\n",
    "    </tr>\n",
    "    <tr>\n",
    "      <th>19</th>\n",
    "      <td>open_acc</td>\n",
    "      <td>The number of open credit lines in the borrower's credit file.</td>\n",
    "    </tr>\n",
    "    <tr>\n",
    "      <th>20</th>\n",
    "      <td>pub_rec</td>\n",
    "      <td>Number of derogatory public records</td>\n",
    "    </tr>\n",
    "    <tr>\n",
    "      <th>21</th>\n",
    "      <td>revol_bal</td>\n",
    "      <td>Total credit revolving balance</td>\n",
    "    </tr>\n",
    "    <tr>\n",
    "      <th>22</th>\n",
    "      <td>revol_util</td>\n",
    "      <td>Revolving line utilization rate, or the amount of credit the borrower is using relative to all available revolving credit.</td>\n",
    "    </tr>\n",
    "    <tr>\n",
    "      <th>23</th>\n",
    "      <td>total_acc</td>\n",
    "      <td>The total number of credit lines currently in the borrower's credit file</td>\n",
    "    </tr>\n",
    "    <tr>\n",
    "      <th>24</th>\n",
    "      <td>initial_list_status</td>\n",
    "      <td>The initial listing status of the loan. Possible values are – W, F</td>\n",
    "    </tr>\n",
    "    <tr>\n",
    "      <th>25</th>\n",
    "      <td>application_type</td>\n",
    "      <td>Indicates whether the loan is an individual application or a joint application with two co-borrowers</td>\n",
    "    </tr>\n",
    "    <tr>\n",
    "      <th>26</th>\n",
    "      <td>mort_acc</td>\n",
    "      <td>Number of mortgage accounts.</td>\n",
    "    </tr>\n",
    "    <tr>\n",
    "      <th>27</th>\n",
    "      <td>pub_rec_bankruptcies</td>\n",
    "      <td>Number of public record bankruptcies</td>\n",
    "    </tr>\n",
    "  </tbody>\n",
    "</table>\n",
    "\n",
    "---\n",
    "----"
   ]
  },
  {
   "cell_type": "markdown",
   "id": "636307e5",
   "metadata": {},
   "source": [
    "## Get data"
   ]
  },
  {
   "cell_type": "code",
   "execution_count": 1,
   "id": "7c42c20c",
   "metadata": {},
   "outputs": [],
   "source": [
    "import numpy as np\n",
    "import pandas as pd\n",
    "import matplotlib.pyplot as plt\n",
    "import seaborn as sns\n",
    "import warnings\n",
    "warnings.filterwarnings('ignore') "
   ]
  },
  {
   "cell_type": "code",
   "execution_count": 2,
   "id": "5c5ad5f0",
   "metadata": {},
   "outputs": [],
   "source": [
    "df = pd.read_csv('../DATA/lending_club_loan_two.csv')"
   ]
  },
  {
   "cell_type": "markdown",
   "id": "961fa967",
   "metadata": {},
   "source": [
    "## Exploratory data analysis"
   ]
  },
  {
   "cell_type": "code",
   "execution_count": 3,
   "id": "808a40a2",
   "metadata": {},
   "outputs": [
    {
     "name": "stdout",
     "output_type": "stream",
     "text": [
      "<class 'pandas.core.frame.DataFrame'>\n",
      "RangeIndex: 396030 entries, 0 to 396029\n",
      "Data columns (total 27 columns):\n",
      " #   Column                Non-Null Count   Dtype  \n",
      "---  ------                --------------   -----  \n",
      " 0   loan_amnt             396030 non-null  float64\n",
      " 1   term                  396030 non-null  object \n",
      " 2   int_rate              396030 non-null  float64\n",
      " 3   installment           396030 non-null  float64\n",
      " 4   grade                 396030 non-null  object \n",
      " 5   sub_grade             396030 non-null  object \n",
      " 6   emp_title             373103 non-null  object \n",
      " 7   emp_length            377729 non-null  object \n",
      " 8   home_ownership        396030 non-null  object \n",
      " 9   annual_inc            396030 non-null  float64\n",
      " 10  verification_status   396030 non-null  object \n",
      " 11  issue_d               396030 non-null  object \n",
      " 12  loan_status           396030 non-null  object \n",
      " 13  purpose               396030 non-null  object \n",
      " 14  title                 394274 non-null  object \n",
      " 15  dti                   396030 non-null  float64\n",
      " 16  earliest_cr_line      396030 non-null  object \n",
      " 17  open_acc              396030 non-null  float64\n",
      " 18  pub_rec               396030 non-null  float64\n",
      " 19  revol_bal             396030 non-null  float64\n",
      " 20  revol_util            395754 non-null  float64\n",
      " 21  total_acc             396030 non-null  float64\n",
      " 22  initial_list_status   396030 non-null  object \n",
      " 23  application_type      396030 non-null  object \n",
      " 24  mort_acc              358235 non-null  float64\n",
      " 25  pub_rec_bankruptcies  395495 non-null  float64\n",
      " 26  address               396030 non-null  object \n",
      "dtypes: float64(12), object(15)\n",
      "memory usage: 81.6+ MB\n"
     ]
    }
   ],
   "source": [
    "df.info()"
   ]
  },
  {
   "cell_type": "code",
   "execution_count": 4,
   "id": "cf7fdea4",
   "metadata": {},
   "outputs": [
    {
     "data": {
      "text/html": [
       "<div>\n",
       "<style scoped>\n",
       "    .dataframe tbody tr th:only-of-type {\n",
       "        vertical-align: middle;\n",
       "    }\n",
       "\n",
       "    .dataframe tbody tr th {\n",
       "        vertical-align: top;\n",
       "    }\n",
       "\n",
       "    .dataframe thead th {\n",
       "        text-align: right;\n",
       "    }\n",
       "</style>\n",
       "<table border=\"1\" class=\"dataframe\">\n",
       "  <thead>\n",
       "    <tr style=\"text-align: right;\">\n",
       "      <th></th>\n",
       "      <th>loan_amnt</th>\n",
       "      <th>int_rate</th>\n",
       "      <th>installment</th>\n",
       "      <th>annual_inc</th>\n",
       "      <th>dti</th>\n",
       "      <th>open_acc</th>\n",
       "      <th>pub_rec</th>\n",
       "      <th>revol_bal</th>\n",
       "      <th>revol_util</th>\n",
       "      <th>total_acc</th>\n",
       "      <th>mort_acc</th>\n",
       "      <th>pub_rec_bankruptcies</th>\n",
       "    </tr>\n",
       "  </thead>\n",
       "  <tbody>\n",
       "    <tr>\n",
       "      <th>count</th>\n",
       "      <td>396030.000000</td>\n",
       "      <td>396030.000000</td>\n",
       "      <td>396030.000000</td>\n",
       "      <td>3.960300e+05</td>\n",
       "      <td>396030.000000</td>\n",
       "      <td>396030.000000</td>\n",
       "      <td>396030.000000</td>\n",
       "      <td>3.960300e+05</td>\n",
       "      <td>395754.000000</td>\n",
       "      <td>396030.000000</td>\n",
       "      <td>358235.000000</td>\n",
       "      <td>395495.000000</td>\n",
       "    </tr>\n",
       "    <tr>\n",
       "      <th>mean</th>\n",
       "      <td>14113.888089</td>\n",
       "      <td>13.639400</td>\n",
       "      <td>431.849698</td>\n",
       "      <td>7.420318e+04</td>\n",
       "      <td>17.379514</td>\n",
       "      <td>11.311153</td>\n",
       "      <td>0.178191</td>\n",
       "      <td>1.584454e+04</td>\n",
       "      <td>53.791749</td>\n",
       "      <td>25.414744</td>\n",
       "      <td>1.813991</td>\n",
       "      <td>0.121648</td>\n",
       "    </tr>\n",
       "    <tr>\n",
       "      <th>std</th>\n",
       "      <td>8357.441341</td>\n",
       "      <td>4.472157</td>\n",
       "      <td>250.727790</td>\n",
       "      <td>6.163762e+04</td>\n",
       "      <td>18.019092</td>\n",
       "      <td>5.137649</td>\n",
       "      <td>0.530671</td>\n",
       "      <td>2.059184e+04</td>\n",
       "      <td>24.452193</td>\n",
       "      <td>11.886991</td>\n",
       "      <td>2.147930</td>\n",
       "      <td>0.356174</td>\n",
       "    </tr>\n",
       "    <tr>\n",
       "      <th>min</th>\n",
       "      <td>500.000000</td>\n",
       "      <td>5.320000</td>\n",
       "      <td>16.080000</td>\n",
       "      <td>0.000000e+00</td>\n",
       "      <td>0.000000</td>\n",
       "      <td>0.000000</td>\n",
       "      <td>0.000000</td>\n",
       "      <td>0.000000e+00</td>\n",
       "      <td>0.000000</td>\n",
       "      <td>2.000000</td>\n",
       "      <td>0.000000</td>\n",
       "      <td>0.000000</td>\n",
       "    </tr>\n",
       "    <tr>\n",
       "      <th>25%</th>\n",
       "      <td>8000.000000</td>\n",
       "      <td>10.490000</td>\n",
       "      <td>250.330000</td>\n",
       "      <td>4.500000e+04</td>\n",
       "      <td>11.280000</td>\n",
       "      <td>8.000000</td>\n",
       "      <td>0.000000</td>\n",
       "      <td>6.025000e+03</td>\n",
       "      <td>35.800000</td>\n",
       "      <td>17.000000</td>\n",
       "      <td>0.000000</td>\n",
       "      <td>0.000000</td>\n",
       "    </tr>\n",
       "    <tr>\n",
       "      <th>50%</th>\n",
       "      <td>12000.000000</td>\n",
       "      <td>13.330000</td>\n",
       "      <td>375.430000</td>\n",
       "      <td>6.400000e+04</td>\n",
       "      <td>16.910000</td>\n",
       "      <td>10.000000</td>\n",
       "      <td>0.000000</td>\n",
       "      <td>1.118100e+04</td>\n",
       "      <td>54.800000</td>\n",
       "      <td>24.000000</td>\n",
       "      <td>1.000000</td>\n",
       "      <td>0.000000</td>\n",
       "    </tr>\n",
       "    <tr>\n",
       "      <th>75%</th>\n",
       "      <td>20000.000000</td>\n",
       "      <td>16.490000</td>\n",
       "      <td>567.300000</td>\n",
       "      <td>9.000000e+04</td>\n",
       "      <td>22.980000</td>\n",
       "      <td>14.000000</td>\n",
       "      <td>0.000000</td>\n",
       "      <td>1.962000e+04</td>\n",
       "      <td>72.900000</td>\n",
       "      <td>32.000000</td>\n",
       "      <td>3.000000</td>\n",
       "      <td>0.000000</td>\n",
       "    </tr>\n",
       "    <tr>\n",
       "      <th>max</th>\n",
       "      <td>40000.000000</td>\n",
       "      <td>30.990000</td>\n",
       "      <td>1533.810000</td>\n",
       "      <td>8.706582e+06</td>\n",
       "      <td>9999.000000</td>\n",
       "      <td>90.000000</td>\n",
       "      <td>86.000000</td>\n",
       "      <td>1.743266e+06</td>\n",
       "      <td>892.300000</td>\n",
       "      <td>151.000000</td>\n",
       "      <td>34.000000</td>\n",
       "      <td>8.000000</td>\n",
       "    </tr>\n",
       "  </tbody>\n",
       "</table>\n",
       "</div>"
      ],
      "text/plain": [
       "           loan_amnt       int_rate    installment    annual_inc  \\\n",
       "count  396030.000000  396030.000000  396030.000000  3.960300e+05   \n",
       "mean    14113.888089      13.639400     431.849698  7.420318e+04   \n",
       "std      8357.441341       4.472157     250.727790  6.163762e+04   \n",
       "min       500.000000       5.320000      16.080000  0.000000e+00   \n",
       "25%      8000.000000      10.490000     250.330000  4.500000e+04   \n",
       "50%     12000.000000      13.330000     375.430000  6.400000e+04   \n",
       "75%     20000.000000      16.490000     567.300000  9.000000e+04   \n",
       "max     40000.000000      30.990000    1533.810000  8.706582e+06   \n",
       "\n",
       "                 dti       open_acc        pub_rec     revol_bal  \\\n",
       "count  396030.000000  396030.000000  396030.000000  3.960300e+05   \n",
       "mean       17.379514      11.311153       0.178191  1.584454e+04   \n",
       "std        18.019092       5.137649       0.530671  2.059184e+04   \n",
       "min         0.000000       0.000000       0.000000  0.000000e+00   \n",
       "25%        11.280000       8.000000       0.000000  6.025000e+03   \n",
       "50%        16.910000      10.000000       0.000000  1.118100e+04   \n",
       "75%        22.980000      14.000000       0.000000  1.962000e+04   \n",
       "max      9999.000000      90.000000      86.000000  1.743266e+06   \n",
       "\n",
       "          revol_util      total_acc       mort_acc  pub_rec_bankruptcies  \n",
       "count  395754.000000  396030.000000  358235.000000         395495.000000  \n",
       "mean       53.791749      25.414744       1.813991              0.121648  \n",
       "std        24.452193      11.886991       2.147930              0.356174  \n",
       "min         0.000000       2.000000       0.000000              0.000000  \n",
       "25%        35.800000      17.000000       0.000000              0.000000  \n",
       "50%        54.800000      24.000000       1.000000              0.000000  \n",
       "75%        72.900000      32.000000       3.000000              0.000000  \n",
       "max       892.300000     151.000000      34.000000              8.000000  "
      ]
     },
     "execution_count": 4,
     "metadata": {},
     "output_type": "execute_result"
    }
   ],
   "source": [
    "df.describe()"
   ]
  },
  {
   "cell_type": "code",
   "execution_count": 5,
   "id": "348ce5a2",
   "metadata": {},
   "outputs": [
    {
     "data": {
      "text/html": [
       "<div>\n",
       "<style scoped>\n",
       "    .dataframe tbody tr th:only-of-type {\n",
       "        vertical-align: middle;\n",
       "    }\n",
       "\n",
       "    .dataframe tbody tr th {\n",
       "        vertical-align: top;\n",
       "    }\n",
       "\n",
       "    .dataframe thead th {\n",
       "        text-align: right;\n",
       "    }\n",
       "</style>\n",
       "<table border=\"1\" class=\"dataframe\">\n",
       "  <thead>\n",
       "    <tr style=\"text-align: right;\">\n",
       "      <th></th>\n",
       "      <th>0</th>\n",
       "      <th>1</th>\n",
       "      <th>2</th>\n",
       "      <th>3</th>\n",
       "      <th>4</th>\n",
       "    </tr>\n",
       "  </thead>\n",
       "  <tbody>\n",
       "    <tr>\n",
       "      <th>loan_amnt</th>\n",
       "      <td>10000.0</td>\n",
       "      <td>8000.0</td>\n",
       "      <td>15600.0</td>\n",
       "      <td>7200.0</td>\n",
       "      <td>24375.0</td>\n",
       "    </tr>\n",
       "    <tr>\n",
       "      <th>term</th>\n",
       "      <td>36 months</td>\n",
       "      <td>36 months</td>\n",
       "      <td>36 months</td>\n",
       "      <td>36 months</td>\n",
       "      <td>60 months</td>\n",
       "    </tr>\n",
       "    <tr>\n",
       "      <th>int_rate</th>\n",
       "      <td>11.44</td>\n",
       "      <td>11.99</td>\n",
       "      <td>10.49</td>\n",
       "      <td>6.49</td>\n",
       "      <td>17.27</td>\n",
       "    </tr>\n",
       "    <tr>\n",
       "      <th>installment</th>\n",
       "      <td>329.48</td>\n",
       "      <td>265.68</td>\n",
       "      <td>506.97</td>\n",
       "      <td>220.65</td>\n",
       "      <td>609.33</td>\n",
       "    </tr>\n",
       "    <tr>\n",
       "      <th>grade</th>\n",
       "      <td>B</td>\n",
       "      <td>B</td>\n",
       "      <td>B</td>\n",
       "      <td>A</td>\n",
       "      <td>C</td>\n",
       "    </tr>\n",
       "    <tr>\n",
       "      <th>sub_grade</th>\n",
       "      <td>B4</td>\n",
       "      <td>B5</td>\n",
       "      <td>B3</td>\n",
       "      <td>A2</td>\n",
       "      <td>C5</td>\n",
       "    </tr>\n",
       "    <tr>\n",
       "      <th>emp_title</th>\n",
       "      <td>Marketing</td>\n",
       "      <td>Credit analyst</td>\n",
       "      <td>Statistician</td>\n",
       "      <td>Client Advocate</td>\n",
       "      <td>Destiny Management Inc.</td>\n",
       "    </tr>\n",
       "    <tr>\n",
       "      <th>emp_length</th>\n",
       "      <td>10+ years</td>\n",
       "      <td>4 years</td>\n",
       "      <td>&lt; 1 year</td>\n",
       "      <td>6 years</td>\n",
       "      <td>9 years</td>\n",
       "    </tr>\n",
       "    <tr>\n",
       "      <th>home_ownership</th>\n",
       "      <td>RENT</td>\n",
       "      <td>MORTGAGE</td>\n",
       "      <td>RENT</td>\n",
       "      <td>RENT</td>\n",
       "      <td>MORTGAGE</td>\n",
       "    </tr>\n",
       "    <tr>\n",
       "      <th>annual_inc</th>\n",
       "      <td>117000.0</td>\n",
       "      <td>65000.0</td>\n",
       "      <td>43057.0</td>\n",
       "      <td>54000.0</td>\n",
       "      <td>55000.0</td>\n",
       "    </tr>\n",
       "    <tr>\n",
       "      <th>verification_status</th>\n",
       "      <td>Not Verified</td>\n",
       "      <td>Not Verified</td>\n",
       "      <td>Source Verified</td>\n",
       "      <td>Not Verified</td>\n",
       "      <td>Verified</td>\n",
       "    </tr>\n",
       "    <tr>\n",
       "      <th>issue_d</th>\n",
       "      <td>Jan-2015</td>\n",
       "      <td>Jan-2015</td>\n",
       "      <td>Jan-2015</td>\n",
       "      <td>Nov-2014</td>\n",
       "      <td>Apr-2013</td>\n",
       "    </tr>\n",
       "    <tr>\n",
       "      <th>loan_status</th>\n",
       "      <td>Fully Paid</td>\n",
       "      <td>Fully Paid</td>\n",
       "      <td>Fully Paid</td>\n",
       "      <td>Fully Paid</td>\n",
       "      <td>Charged Off</td>\n",
       "    </tr>\n",
       "    <tr>\n",
       "      <th>purpose</th>\n",
       "      <td>vacation</td>\n",
       "      <td>debt_consolidation</td>\n",
       "      <td>credit_card</td>\n",
       "      <td>credit_card</td>\n",
       "      <td>credit_card</td>\n",
       "    </tr>\n",
       "    <tr>\n",
       "      <th>title</th>\n",
       "      <td>Vacation</td>\n",
       "      <td>Debt consolidation</td>\n",
       "      <td>Credit card refinancing</td>\n",
       "      <td>Credit card refinancing</td>\n",
       "      <td>Credit Card Refinance</td>\n",
       "    </tr>\n",
       "    <tr>\n",
       "      <th>dti</th>\n",
       "      <td>26.24</td>\n",
       "      <td>22.05</td>\n",
       "      <td>12.79</td>\n",
       "      <td>2.6</td>\n",
       "      <td>33.95</td>\n",
       "    </tr>\n",
       "    <tr>\n",
       "      <th>earliest_cr_line</th>\n",
       "      <td>Jun-1990</td>\n",
       "      <td>Jul-2004</td>\n",
       "      <td>Aug-2007</td>\n",
       "      <td>Sep-2006</td>\n",
       "      <td>Mar-1999</td>\n",
       "    </tr>\n",
       "    <tr>\n",
       "      <th>open_acc</th>\n",
       "      <td>16.0</td>\n",
       "      <td>17.0</td>\n",
       "      <td>13.0</td>\n",
       "      <td>6.0</td>\n",
       "      <td>13.0</td>\n",
       "    </tr>\n",
       "    <tr>\n",
       "      <th>pub_rec</th>\n",
       "      <td>0.0</td>\n",
       "      <td>0.0</td>\n",
       "      <td>0.0</td>\n",
       "      <td>0.0</td>\n",
       "      <td>0.0</td>\n",
       "    </tr>\n",
       "    <tr>\n",
       "      <th>revol_bal</th>\n",
       "      <td>36369.0</td>\n",
       "      <td>20131.0</td>\n",
       "      <td>11987.0</td>\n",
       "      <td>5472.0</td>\n",
       "      <td>24584.0</td>\n",
       "    </tr>\n",
       "    <tr>\n",
       "      <th>revol_util</th>\n",
       "      <td>41.8</td>\n",
       "      <td>53.3</td>\n",
       "      <td>92.2</td>\n",
       "      <td>21.5</td>\n",
       "      <td>69.8</td>\n",
       "    </tr>\n",
       "    <tr>\n",
       "      <th>total_acc</th>\n",
       "      <td>25.0</td>\n",
       "      <td>27.0</td>\n",
       "      <td>26.0</td>\n",
       "      <td>13.0</td>\n",
       "      <td>43.0</td>\n",
       "    </tr>\n",
       "    <tr>\n",
       "      <th>initial_list_status</th>\n",
       "      <td>w</td>\n",
       "      <td>f</td>\n",
       "      <td>f</td>\n",
       "      <td>f</td>\n",
       "      <td>f</td>\n",
       "    </tr>\n",
       "    <tr>\n",
       "      <th>application_type</th>\n",
       "      <td>INDIVIDUAL</td>\n",
       "      <td>INDIVIDUAL</td>\n",
       "      <td>INDIVIDUAL</td>\n",
       "      <td>INDIVIDUAL</td>\n",
       "      <td>INDIVIDUAL</td>\n",
       "    </tr>\n",
       "    <tr>\n",
       "      <th>mort_acc</th>\n",
       "      <td>0.0</td>\n",
       "      <td>3.0</td>\n",
       "      <td>0.0</td>\n",
       "      <td>0.0</td>\n",
       "      <td>1.0</td>\n",
       "    </tr>\n",
       "    <tr>\n",
       "      <th>pub_rec_bankruptcies</th>\n",
       "      <td>0.0</td>\n",
       "      <td>0.0</td>\n",
       "      <td>0.0</td>\n",
       "      <td>0.0</td>\n",
       "      <td>0.0</td>\n",
       "    </tr>\n",
       "    <tr>\n",
       "      <th>address</th>\n",
       "      <td>0174 Michelle Gateway\\nMendozaberg, OK 22690</td>\n",
       "      <td>1076 Carney Fort Apt. 347\\nLoganmouth, SD 05113</td>\n",
       "      <td>87025 Mark Dale Apt. 269\\nNew Sabrina, WV 05113</td>\n",
       "      <td>823 Reid Ford\\nDelacruzside, MA 00813</td>\n",
       "      <td>679 Luna Roads\\nGreggshire, VA 11650</td>\n",
       "    </tr>\n",
       "  </tbody>\n",
       "</table>\n",
       "</div>"
      ],
      "text/plain": [
       "                                                                 0  \\\n",
       "loan_amnt                                                  10000.0   \n",
       "term                                                     36 months   \n",
       "int_rate                                                     11.44   \n",
       "installment                                                 329.48   \n",
       "grade                                                            B   \n",
       "sub_grade                                                       B4   \n",
       "emp_title                                                Marketing   \n",
       "emp_length                                               10+ years   \n",
       "home_ownership                                                RENT   \n",
       "annual_inc                                                117000.0   \n",
       "verification_status                                   Not Verified   \n",
       "issue_d                                                   Jan-2015   \n",
       "loan_status                                             Fully Paid   \n",
       "purpose                                                   vacation   \n",
       "title                                                     Vacation   \n",
       "dti                                                          26.24   \n",
       "earliest_cr_line                                          Jun-1990   \n",
       "open_acc                                                      16.0   \n",
       "pub_rec                                                        0.0   \n",
       "revol_bal                                                  36369.0   \n",
       "revol_util                                                    41.8   \n",
       "total_acc                                                     25.0   \n",
       "initial_list_status                                              w   \n",
       "application_type                                        INDIVIDUAL   \n",
       "mort_acc                                                       0.0   \n",
       "pub_rec_bankruptcies                                           0.0   \n",
       "address               0174 Michelle Gateway\\nMendozaberg, OK 22690   \n",
       "\n",
       "                                                                    1  \\\n",
       "loan_amnt                                                      8000.0   \n",
       "term                                                        36 months   \n",
       "int_rate                                                        11.99   \n",
       "installment                                                    265.68   \n",
       "grade                                                               B   \n",
       "sub_grade                                                          B5   \n",
       "emp_title                                             Credit analyst    \n",
       "emp_length                                                    4 years   \n",
       "home_ownership                                               MORTGAGE   \n",
       "annual_inc                                                    65000.0   \n",
       "verification_status                                      Not Verified   \n",
       "issue_d                                                      Jan-2015   \n",
       "loan_status                                                Fully Paid   \n",
       "purpose                                            debt_consolidation   \n",
       "title                                              Debt consolidation   \n",
       "dti                                                             22.05   \n",
       "earliest_cr_line                                             Jul-2004   \n",
       "open_acc                                                         17.0   \n",
       "pub_rec                                                           0.0   \n",
       "revol_bal                                                     20131.0   \n",
       "revol_util                                                       53.3   \n",
       "total_acc                                                        27.0   \n",
       "initial_list_status                                                 f   \n",
       "application_type                                           INDIVIDUAL   \n",
       "mort_acc                                                          3.0   \n",
       "pub_rec_bankruptcies                                              0.0   \n",
       "address               1076 Carney Fort Apt. 347\\nLoganmouth, SD 05113   \n",
       "\n",
       "                                                                    2  \\\n",
       "loan_amnt                                                     15600.0   \n",
       "term                                                        36 months   \n",
       "int_rate                                                        10.49   \n",
       "installment                                                    506.97   \n",
       "grade                                                               B   \n",
       "sub_grade                                                          B3   \n",
       "emp_title                                                Statistician   \n",
       "emp_length                                                   < 1 year   \n",
       "home_ownership                                                   RENT   \n",
       "annual_inc                                                    43057.0   \n",
       "verification_status                                   Source Verified   \n",
       "issue_d                                                      Jan-2015   \n",
       "loan_status                                                Fully Paid   \n",
       "purpose                                                   credit_card   \n",
       "title                                         Credit card refinancing   \n",
       "dti                                                             12.79   \n",
       "earliest_cr_line                                             Aug-2007   \n",
       "open_acc                                                         13.0   \n",
       "pub_rec                                                           0.0   \n",
       "revol_bal                                                     11987.0   \n",
       "revol_util                                                       92.2   \n",
       "total_acc                                                        26.0   \n",
       "initial_list_status                                                 f   \n",
       "application_type                                           INDIVIDUAL   \n",
       "mort_acc                                                          0.0   \n",
       "pub_rec_bankruptcies                                              0.0   \n",
       "address               87025 Mark Dale Apt. 269\\nNew Sabrina, WV 05113   \n",
       "\n",
       "                                                          3  \\\n",
       "loan_amnt                                            7200.0   \n",
       "term                                              36 months   \n",
       "int_rate                                               6.49   \n",
       "installment                                          220.65   \n",
       "grade                                                     A   \n",
       "sub_grade                                                A2   \n",
       "emp_title                                   Client Advocate   \n",
       "emp_length                                          6 years   \n",
       "home_ownership                                         RENT   \n",
       "annual_inc                                          54000.0   \n",
       "verification_status                            Not Verified   \n",
       "issue_d                                            Nov-2014   \n",
       "loan_status                                      Fully Paid   \n",
       "purpose                                         credit_card   \n",
       "title                               Credit card refinancing   \n",
       "dti                                                     2.6   \n",
       "earliest_cr_line                                   Sep-2006   \n",
       "open_acc                                                6.0   \n",
       "pub_rec                                                 0.0   \n",
       "revol_bal                                            5472.0   \n",
       "revol_util                                             21.5   \n",
       "total_acc                                              13.0   \n",
       "initial_list_status                                       f   \n",
       "application_type                                 INDIVIDUAL   \n",
       "mort_acc                                                0.0   \n",
       "pub_rec_bankruptcies                                    0.0   \n",
       "address               823 Reid Ford\\nDelacruzside, MA 00813   \n",
       "\n",
       "                                                         4  \n",
       "loan_amnt                                          24375.0  \n",
       "term                                             60 months  \n",
       "int_rate                                             17.27  \n",
       "installment                                         609.33  \n",
       "grade                                                    C  \n",
       "sub_grade                                               C5  \n",
       "emp_title                          Destiny Management Inc.  \n",
       "emp_length                                         9 years  \n",
       "home_ownership                                    MORTGAGE  \n",
       "annual_inc                                         55000.0  \n",
       "verification_status                               Verified  \n",
       "issue_d                                           Apr-2013  \n",
       "loan_status                                    Charged Off  \n",
       "purpose                                        credit_card  \n",
       "title                                Credit Card Refinance  \n",
       "dti                                                  33.95  \n",
       "earliest_cr_line                                  Mar-1999  \n",
       "open_acc                                              13.0  \n",
       "pub_rec                                                0.0  \n",
       "revol_bal                                          24584.0  \n",
       "revol_util                                            69.8  \n",
       "total_acc                                             43.0  \n",
       "initial_list_status                                      f  \n",
       "application_type                                INDIVIDUAL  \n",
       "mort_acc                                               1.0  \n",
       "pub_rec_bankruptcies                                   0.0  \n",
       "address               679 Luna Roads\\nGreggshire, VA 11650  "
      ]
     },
     "execution_count": 5,
     "metadata": {},
     "output_type": "execute_result"
    }
   ],
   "source": [
    "df.head().T"
   ]
  },
  {
   "cell_type": "markdown",
   "id": "a19cd058",
   "metadata": {},
   "source": [
    "### Check for missing values"
   ]
  },
  {
   "cell_type": "code",
   "execution_count": 6,
   "id": "9c9eca87",
   "metadata": {},
   "outputs": [
    {
     "data": {
      "text/plain": [
       "loan_amnt                   0\n",
       "term                        0\n",
       "int_rate                    0\n",
       "installment                 0\n",
       "grade                       0\n",
       "sub_grade                   0\n",
       "emp_title               22927\n",
       "emp_length              18301\n",
       "home_ownership              0\n",
       "annual_inc                  0\n",
       "verification_status         0\n",
       "issue_d                     0\n",
       "loan_status                 0\n",
       "purpose                     0\n",
       "title                    1756\n",
       "dti                         0\n",
       "earliest_cr_line            0\n",
       "open_acc                    0\n",
       "pub_rec                     0\n",
       "revol_bal                   0\n",
       "revol_util                276\n",
       "total_acc                   0\n",
       "initial_list_status         0\n",
       "application_type            0\n",
       "mort_acc                37795\n",
       "pub_rec_bankruptcies      535\n",
       "address                     0\n",
       "dtype: int64"
      ]
     },
     "execution_count": 6,
     "metadata": {},
     "output_type": "execute_result"
    }
   ],
   "source": [
    "df.isna().sum()"
   ]
  },
  {
   "cell_type": "code",
   "execution_count": 7,
   "id": "69acb89d",
   "metadata": {},
   "outputs": [
    {
     "data": {
      "text/plain": [
       "loan_amnt               0.000000\n",
       "term                    0.000000\n",
       "int_rate                0.000000\n",
       "installment             0.000000\n",
       "grade                   0.000000\n",
       "sub_grade               0.000000\n",
       "emp_title               0.057892\n",
       "emp_length              0.046211\n",
       "home_ownership          0.000000\n",
       "annual_inc              0.000000\n",
       "verification_status     0.000000\n",
       "issue_d                 0.000000\n",
       "loan_status             0.000000\n",
       "purpose                 0.000000\n",
       "title                   0.004434\n",
       "dti                     0.000000\n",
       "earliest_cr_line        0.000000\n",
       "open_acc                0.000000\n",
       "pub_rec                 0.000000\n",
       "revol_bal               0.000000\n",
       "revol_util              0.000697\n",
       "total_acc               0.000000\n",
       "initial_list_status     0.000000\n",
       "application_type        0.000000\n",
       "mort_acc                0.095435\n",
       "pub_rec_bankruptcies    0.001351\n",
       "address                 0.000000\n",
       "dtype: float64"
      ]
     },
     "execution_count": 7,
     "metadata": {},
     "output_type": "execute_result"
    }
   ],
   "source": [
    "df.isna().sum()/len(df)"
   ]
  },
  {
   "cell_type": "markdown",
   "id": "50de5922",
   "metadata": {},
   "source": [
    "### check distribution of labels"
   ]
  },
  {
   "cell_type": "code",
   "execution_count": 8,
   "id": "0de844df",
   "metadata": {},
   "outputs": [
    {
     "data": {
      "text/plain": [
       "<Axes: xlabel='loan_status', ylabel='count'>"
      ]
     },
     "execution_count": 8,
     "metadata": {},
     "output_type": "execute_result"
    },
    {
     "data": {
      "image/png": "[encoded data removed]",
      "text/plain": [
       "<Figure size 640x480 with 1 Axes>"
      ]
     },
     "metadata": {},
     "output_type": "display_data"
    }
   ],
   "source": [
    "sns.countplot(data = df, x='loan_status')"
   ]
  },
  {
   "cell_type": "code",
   "execution_count": 9,
   "id": "9c367d69",
   "metadata": {},
   "outputs": [
    {
     "data": {
      "text/plain": [
       "loan_status\n",
       "Fully Paid     0.803871\n",
       "Charged Off    0.196129\n",
       "Name: count, dtype: float64"
      ]
     },
     "execution_count": 9,
     "metadata": {},
     "output_type": "execute_result"
    }
   ],
   "source": [
    "df['loan_status'].value_counts()/len(df)"
   ]
  },
  {
   "cell_type": "markdown",
   "id": "d21ac224",
   "metadata": {},
   "source": [
    "### check for any obvious correlation with numeric features"
   ]
  },
  {
   "cell_type": "code",
   "execution_count": 10,
   "id": "a1d30abb",
   "metadata": {},
   "outputs": [
    {
     "data": {
      "text/plain": [
       "0         1\n",
       "1         1\n",
       "2         1\n",
       "3         1\n",
       "4         0\n",
       "         ..\n",
       "396025    1\n",
       "396026    1\n",
       "396027    1\n",
       "396028    1\n",
       "396029    1\n",
       "Name: status_numeric, Length: 396030, dtype: int64"
      ]
     },
     "execution_count": 10,
     "metadata": {},
     "output_type": "execute_result"
    }
   ],
   "source": [
    "# change loan_status to numeric to check for any correlation\n",
    "ls_dict = {'Fully Paid': 1, 'Charged Off' : 0}\n",
    "df['status_numeric'] = df['loan_status'].map(ls_dict)\n",
    "df['status_numeric']"
   ]
  },
  {
   "cell_type": "code",
   "execution_count": 11,
   "id": "e9029f73",
   "metadata": {},
   "outputs": [
    {
     "data": {
      "text/plain": [
       "int_rate               -0.247758\n",
       "revol_util             -0.082373\n",
       "dti                    -0.062413\n",
       "loan_amnt              -0.059836\n",
       "installment            -0.041082\n",
       "open_acc               -0.028012\n",
       "pub_rec                -0.019933\n",
       "pub_rec_bankruptcies   -0.009383\n",
       "revol_bal               0.010892\n",
       "total_acc               0.017893\n",
       "annual_inc              0.053432\n",
       "mort_acc                0.073111\n",
       "Name: status_numeric, dtype: float64"
      ]
     },
     "execution_count": 11,
     "metadata": {},
     "output_type": "execute_result"
    }
   ],
   "source": [
    "df.corr(numeric_only=True)['status_numeric'].sort_values().drop('status_numeric')"
   ]
  },
  {
   "cell_type": "code",
   "execution_count": 12,
   "id": "773a6255",
   "metadata": {},
   "outputs": [
    {
     "data": {
      "text/plain": [
       "<Axes: >"
      ]
     },
     "execution_count": 12,
     "metadata": {},
     "output_type": "execute_result"
    },
    {
     "data": {
      "image/png": "[encoded data removed]",
      "text/plain": [
       "<Figure size 640x480 with 1 Axes>"
      ]
     },
     "metadata": {},
     "output_type": "display_data"
    }
   ],
   "source": [
    "df.corr(numeric_only=True)['status_numeric'].sort_values().drop('status_numeric').plot.bar()"
   ]
  },
  {
   "cell_type": "markdown",
   "id": "a7c7ad63",
   "metadata": {},
   "source": [
    "### invesigate correlated variables"
   ]
  },
  {
   "cell_type": "code",
   "execution_count": 13,
   "id": "f6260b04",
   "metadata": {},
   "outputs": [
    {
     "data": {
      "image/png": "[encoded data removed]",
      "text/plain": [
       "<Figure size 640x480 with 1 Axes>"
      ]
     },
     "metadata": {},
     "output_type": "display_data"
    }
   ],
   "source": [
    "#fig1, ax = plt.subplots()\n",
    "sns.histplot(data = df, x = 'int_rate', bins = 50, hue = 'loan_status')\n",
    "#ax.set_xlim(1, 80)\n",
    "plt.xticks(np.arange(0,30,2), rotation=90);"
   ]
  },
  {
   "cell_type": "code",
   "execution_count": 14,
   "id": "07bcbd51",
   "metadata": {},
   "outputs": [
    {
     "data": {
      "image/png": "[encoded data removed]",
      "text/plain": [
       "<Figure size 640x480 with 1 Axes>"
      ]
     },
     "metadata": {},
     "output_type": "display_data"
    }
   ],
   "source": [
    "sns.histplot(data = df, x = 'revol_util', hue = 'loan_status', bins = 100)\n",
    "plt.xlim(0, 200)\n",
    "plt.xticks(np.arange(0,200,10), rotation=90);"
   ]
  },
  {
   "cell_type": "code",
   "execution_count": 15,
   "id": "c5114a4b",
   "metadata": {},
   "outputs": [
    {
     "data": {
      "image/png": "[encoded data removed]",
      "text/plain": [
       "<Figure size 640x480 with 1 Axes>"
      ]
     },
     "metadata": {},
     "output_type": "display_data"
    }
   ],
   "source": [
    "sns.countplot(data = df, x='mort_acc', hue = 'loan_status')\n",
    "plt.xticks(rotation=90);"
   ]
  },
  {
   "cell_type": "code",
   "execution_count": 16,
   "id": "54620af9",
   "metadata": {},
   "outputs": [
    {
     "data": {
      "image/png": "[encoded data removed]",
      "text/plain": [
       "<Figure size 640x480 with 1 Axes>"
      ]
     },
     "metadata": {},
     "output_type": "display_data"
    }
   ],
   "source": [
    "sns.histplot(data = df, x = 'dti', hue = 'loan_status', bins = 10)\n",
    "plt.xlim(0, 200)\n",
    "plt.xticks(np.arange(0,200,10), rotation=90);"
   ]
  },
  {
   "cell_type": "code",
   "execution_count": 17,
   "id": "7ac1633a",
   "metadata": {},
   "outputs": [
    {
     "data": {
      "image/png": "[encoded data removed]",
      "text/plain": [
       "<Figure size 640x480 with 1 Axes>"
      ]
     },
     "metadata": {},
     "output_type": "display_data"
    }
   ],
   "source": [
    "sns.histplot(data = df, x = 'annual_inc', hue = 'loan_status', bins = 1000)\n",
    "plt.xlim(0, 300000)\n",
    "plt.xticks(np.arange(0,300000,10000), rotation=90);"
   ]
  },
  {
   "cell_type": "code",
   "execution_count": 18,
   "id": "6f6556c7",
   "metadata": {},
   "outputs": [
    {
     "data": {
      "image/png": "[encoded data removed]",
      "text/plain": [
       "<Figure size 640x480 with 1 Axes>"
      ]
     },
     "metadata": {},
     "output_type": "display_data"
    }
   ],
   "source": [
    "sns.histplot(data = df, x = 'total_acc', hue = 'loan_status', bins = 50)\n",
    "plt.xlim(1, 80)\n",
    "plt.xticks(np.arange(0,80,5), rotation=90);"
   ]
  },
  {
   "cell_type": "markdown",
   "id": "f90f9899",
   "metadata": {},
   "source": [
    "### investigate non-numeric features"
   ]
  },
  {
   "cell_type": "code",
   "execution_count": 19,
   "id": "b06cc323",
   "metadata": {},
   "outputs": [
    {
     "data": {
      "text/html": [
       "<div>\n",
       "<style scoped>\n",
       "    .dataframe tbody tr th:only-of-type {\n",
       "        vertical-align: middle;\n",
       "    }\n",
       "\n",
       "    .dataframe tbody tr th {\n",
       "        vertical-align: top;\n",
       "    }\n",
       "\n",
       "    .dataframe thead th {\n",
       "        text-align: right;\n",
       "    }\n",
       "</style>\n",
       "<table border=\"1\" class=\"dataframe\">\n",
       "  <thead>\n",
       "    <tr style=\"text-align: right;\">\n",
       "      <th></th>\n",
       "      <th>0</th>\n",
       "      <th>1</th>\n",
       "      <th>2</th>\n",
       "      <th>3</th>\n",
       "      <th>4</th>\n",
       "      <th>5</th>\n",
       "      <th>6</th>\n",
       "      <th>7</th>\n",
       "      <th>8</th>\n",
       "      <th>9</th>\n",
       "      <th>...</th>\n",
       "      <th>396020</th>\n",
       "      <th>396021</th>\n",
       "      <th>396022</th>\n",
       "      <th>396023</th>\n",
       "      <th>396024</th>\n",
       "      <th>396025</th>\n",
       "      <th>396026</th>\n",
       "      <th>396027</th>\n",
       "      <th>396028</th>\n",
       "      <th>396029</th>\n",
       "    </tr>\n",
       "  </thead>\n",
       "  <tbody>\n",
       "    <tr>\n",
       "      <th>address</th>\n",
       "      <td>0174 Michelle Gateway\\nMendozaberg, OK 22690</td>\n",
       "      <td>1076 Carney Fort Apt. 347\\nLoganmouth, SD 05113</td>\n",
       "      <td>87025 Mark Dale Apt. 269\\nNew Sabrina, WV 05113</td>\n",
       "      <td>823 Reid Ford\\nDelacruzside, MA 00813</td>\n",
       "      <td>679 Luna Roads\\nGreggshire, VA 11650</td>\n",
       "      <td>1726 Cooper Passage Suite 129\\nNorth Deniseber...</td>\n",
       "      <td>1008 Erika Vista Suite 748\\nEast Stephanie, TX...</td>\n",
       "      <td>USCGC Nunez\\nFPO AE 30723</td>\n",
       "      <td>USCGC Tran\\nFPO AP 22690</td>\n",
       "      <td>3390 Luis Rue\\nMauricestad, VA 00813</td>\n",
       "      <td>...</td>\n",
       "      <td>914 Alexander Mountains Apt. 604\\nEast Marco, ...</td>\n",
       "      <td>309 John Mission\\nWest Marc, NY 00813</td>\n",
       "      <td>532 Johnson Drive Apt. 185\\nAndersonside, NY 7...</td>\n",
       "      <td>0297 Flores Dale Suite 441\\nTaylorland, MD 05113</td>\n",
       "      <td>514 Cynthia Park Apt. 402\\nWest Williamside, S...</td>\n",
       "      <td>12951 Williams Crossing\\nJohnnyville, DC 30723</td>\n",
       "      <td>0114 Fowler Field Suite 028\\nRachelborough, LA...</td>\n",
       "      <td>953 Matthew Points Suite 414\\nReedfort, NY 70466</td>\n",
       "      <td>7843 Blake Freeway Apt. 229\\nNew Michael, FL 2...</td>\n",
       "      <td>787 Michelle Causeway\\nBriannaton, AR 48052</td>\n",
       "    </tr>\n",
       "    <tr>\n",
       "      <th>application_type</th>\n",
       "      <td>INDIVIDUAL</td>\n",
       "      <td>INDIVIDUAL</td>\n",
       "      <td>INDIVIDUAL</td>\n",
       "      <td>INDIVIDUAL</td>\n",
       "      <td>INDIVIDUAL</td>\n",
       "      <td>INDIVIDUAL</td>\n",
       "      <td>INDIVIDUAL</td>\n",
       "      <td>INDIVIDUAL</td>\n",
       "      <td>INDIVIDUAL</td>\n",
       "      <td>INDIVIDUAL</td>\n",
       "      <td>...</td>\n",
       "      <td>INDIVIDUAL</td>\n",
       "      <td>INDIVIDUAL</td>\n",
       "      <td>INDIVIDUAL</td>\n",
       "      <td>INDIVIDUAL</td>\n",
       "      <td>INDIVIDUAL</td>\n",
       "      <td>INDIVIDUAL</td>\n",
       "      <td>INDIVIDUAL</td>\n",
       "      <td>INDIVIDUAL</td>\n",
       "      <td>INDIVIDUAL</td>\n",
       "      <td>INDIVIDUAL</td>\n",
       "    </tr>\n",
       "    <tr>\n",
       "      <th>earliest_cr_line</th>\n",
       "      <td>Jun-1990</td>\n",
       "      <td>Jul-2004</td>\n",
       "      <td>Aug-2007</td>\n",
       "      <td>Sep-2006</td>\n",
       "      <td>Mar-1999</td>\n",
       "      <td>Jan-2005</td>\n",
       "      <td>Aug-2005</td>\n",
       "      <td>Sep-1994</td>\n",
       "      <td>Jun-1994</td>\n",
       "      <td>Dec-1997</td>\n",
       "      <td>...</td>\n",
       "      <td>Jan-1988</td>\n",
       "      <td>Nov-1996</td>\n",
       "      <td>Oct-2004</td>\n",
       "      <td>May-1998</td>\n",
       "      <td>Nov-1991</td>\n",
       "      <td>Nov-2004</td>\n",
       "      <td>Feb-2006</td>\n",
       "      <td>Mar-1997</td>\n",
       "      <td>Nov-1990</td>\n",
       "      <td>Sep-1998</td>\n",
       "    </tr>\n",
       "    <tr>\n",
       "      <th>emp_length</th>\n",
       "      <td>10+ years</td>\n",
       "      <td>4 years</td>\n",
       "      <td>&lt; 1 year</td>\n",
       "      <td>6 years</td>\n",
       "      <td>9 years</td>\n",
       "      <td>10+ years</td>\n",
       "      <td>2 years</td>\n",
       "      <td>10+ years</td>\n",
       "      <td>10+ years</td>\n",
       "      <td>3 years</td>\n",
       "      <td>...</td>\n",
       "      <td>10+ years</td>\n",
       "      <td>10+ years</td>\n",
       "      <td>1 year</td>\n",
       "      <td>10+ years</td>\n",
       "      <td>5 years</td>\n",
       "      <td>2 years</td>\n",
       "      <td>5 years</td>\n",
       "      <td>10+ years</td>\n",
       "      <td>10+ years</td>\n",
       "      <td>10+ years</td>\n",
       "    </tr>\n",
       "    <tr>\n",
       "      <th>emp_title</th>\n",
       "      <td>Marketing</td>\n",
       "      <td>Credit analyst</td>\n",
       "      <td>Statistician</td>\n",
       "      <td>Client Advocate</td>\n",
       "      <td>Destiny Management Inc.</td>\n",
       "      <td>HR Specialist</td>\n",
       "      <td>Software Development Engineer</td>\n",
       "      <td>Office Depot</td>\n",
       "      <td>Application Architect</td>\n",
       "      <td>Regado Biosciences</td>\n",
       "      <td>...</td>\n",
       "      <td>Retirement Counselor</td>\n",
       "      <td>St Francis Medical Center</td>\n",
       "      <td>Data Center Specialist II</td>\n",
       "      <td>Operations Manager</td>\n",
       "      <td>Michael's Arts &amp; Crafts</td>\n",
       "      <td>licensed bankere</td>\n",
       "      <td>Agent</td>\n",
       "      <td>City Carrier</td>\n",
       "      <td>Gracon Services, Inc</td>\n",
       "      <td>Internal Revenue Service</td>\n",
       "    </tr>\n",
       "    <tr>\n",
       "      <th>grade</th>\n",
       "      <td>B</td>\n",
       "      <td>B</td>\n",
       "      <td>B</td>\n",
       "      <td>A</td>\n",
       "      <td>C</td>\n",
       "      <td>C</td>\n",
       "      <td>A</td>\n",
       "      <td>B</td>\n",
       "      <td>B</td>\n",
       "      <td>C</td>\n",
       "      <td>...</td>\n",
       "      <td>B</td>\n",
       "      <td>A</td>\n",
       "      <td>C</td>\n",
       "      <td>D</td>\n",
       "      <td>B</td>\n",
       "      <td>B</td>\n",
       "      <td>C</td>\n",
       "      <td>B</td>\n",
       "      <td>C</td>\n",
       "      <td>C</td>\n",
       "    </tr>\n",
       "    <tr>\n",
       "      <th>home_ownership</th>\n",
       "      <td>RENT</td>\n",
       "      <td>MORTGAGE</td>\n",
       "      <td>RENT</td>\n",
       "      <td>RENT</td>\n",
       "      <td>MORTGAGE</td>\n",
       "      <td>MORTGAGE</td>\n",
       "      <td>MORTGAGE</td>\n",
       "      <td>RENT</td>\n",
       "      <td>RENT</td>\n",
       "      <td>MORTGAGE</td>\n",
       "      <td>...</td>\n",
       "      <td>RENT</td>\n",
       "      <td>RENT</td>\n",
       "      <td>RENT</td>\n",
       "      <td>MORTGAGE</td>\n",
       "      <td>RENT</td>\n",
       "      <td>RENT</td>\n",
       "      <td>MORTGAGE</td>\n",
       "      <td>RENT</td>\n",
       "      <td>MORTGAGE</td>\n",
       "      <td>RENT</td>\n",
       "    </tr>\n",
       "    <tr>\n",
       "      <th>initial_list_status</th>\n",
       "      <td>w</td>\n",
       "      <td>f</td>\n",
       "      <td>f</td>\n",
       "      <td>f</td>\n",
       "      <td>f</td>\n",
       "      <td>f</td>\n",
       "      <td>f</td>\n",
       "      <td>f</td>\n",
       "      <td>w</td>\n",
       "      <td>f</td>\n",
       "      <td>...</td>\n",
       "      <td>w</td>\n",
       "      <td>f</td>\n",
       "      <td>w</td>\n",
       "      <td>f</td>\n",
       "      <td>w</td>\n",
       "      <td>w</td>\n",
       "      <td>f</td>\n",
       "      <td>f</td>\n",
       "      <td>f</td>\n",
       "      <td>f</td>\n",
       "    </tr>\n",
       "    <tr>\n",
       "      <th>issue_d</th>\n",
       "      <td>Jan-2015</td>\n",
       "      <td>Jan-2015</td>\n",
       "      <td>Jan-2015</td>\n",
       "      <td>Nov-2014</td>\n",
       "      <td>Apr-2013</td>\n",
       "      <td>Sep-2015</td>\n",
       "      <td>Sep-2015</td>\n",
       "      <td>Sep-2012</td>\n",
       "      <td>Oct-2014</td>\n",
       "      <td>Apr-2012</td>\n",
       "      <td>...</td>\n",
       "      <td>Dec-2015</td>\n",
       "      <td>Feb-2011</td>\n",
       "      <td>Oct-2015</td>\n",
       "      <td>Apr-2014</td>\n",
       "      <td>Mar-2013</td>\n",
       "      <td>Oct-2015</td>\n",
       "      <td>Feb-2015</td>\n",
       "      <td>Oct-2013</td>\n",
       "      <td>Aug-2012</td>\n",
       "      <td>Jun-2010</td>\n",
       "    </tr>\n",
       "    <tr>\n",
       "      <th>purpose</th>\n",
       "      <td>vacation</td>\n",
       "      <td>debt_consolidation</td>\n",
       "      <td>credit_card</td>\n",
       "      <td>credit_card</td>\n",
       "      <td>credit_card</td>\n",
       "      <td>debt_consolidation</td>\n",
       "      <td>home_improvement</td>\n",
       "      <td>credit_card</td>\n",
       "      <td>debt_consolidation</td>\n",
       "      <td>debt_consolidation</td>\n",
       "      <td>...</td>\n",
       "      <td>debt_consolidation</td>\n",
       "      <td>debt_consolidation</td>\n",
       "      <td>debt_consolidation</td>\n",
       "      <td>debt_consolidation</td>\n",
       "      <td>debt_consolidation</td>\n",
       "      <td>debt_consolidation</td>\n",
       "      <td>debt_consolidation</td>\n",
       "      <td>debt_consolidation</td>\n",
       "      <td>debt_consolidation</td>\n",
       "      <td>debt_consolidation</td>\n",
       "    </tr>\n",
       "    <tr>\n",
       "      <th>sub_grade</th>\n",
       "      <td>B4</td>\n",
       "      <td>B5</td>\n",
       "      <td>B3</td>\n",
       "      <td>A2</td>\n",
       "      <td>C5</td>\n",
       "      <td>C3</td>\n",
       "      <td>A1</td>\n",
       "      <td>B2</td>\n",
       "      <td>B3</td>\n",
       "      <td>C5</td>\n",
       "      <td>...</td>\n",
       "      <td>B3</td>\n",
       "      <td>A1</td>\n",
       "      <td>C1</td>\n",
       "      <td>D4</td>\n",
       "      <td>B4</td>\n",
       "      <td>B4</td>\n",
       "      <td>C1</td>\n",
       "      <td>B1</td>\n",
       "      <td>C2</td>\n",
       "      <td>C2</td>\n",
       "    </tr>\n",
       "    <tr>\n",
       "      <th>term</th>\n",
       "      <td>36 months</td>\n",
       "      <td>36 months</td>\n",
       "      <td>36 months</td>\n",
       "      <td>36 months</td>\n",
       "      <td>60 months</td>\n",
       "      <td>36 months</td>\n",
       "      <td>36 months</td>\n",
       "      <td>36 months</td>\n",
       "      <td>60 months</td>\n",
       "      <td>36 months</td>\n",
       "      <td>...</td>\n",
       "      <td>36 months</td>\n",
       "      <td>36 months</td>\n",
       "      <td>36 months</td>\n",
       "      <td>36 months</td>\n",
       "      <td>36 months</td>\n",
       "      <td>60 months</td>\n",
       "      <td>36 months</td>\n",
       "      <td>36 months</td>\n",
       "      <td>60 months</td>\n",
       "      <td>36 months</td>\n",
       "    </tr>\n",
       "    <tr>\n",
       "      <th>title</th>\n",
       "      <td>Vacation</td>\n",
       "      <td>Debt consolidation</td>\n",
       "      <td>Credit card refinancing</td>\n",
       "      <td>Credit card refinancing</td>\n",
       "      <td>Credit Card Refinance</td>\n",
       "      <td>Debt consolidation</td>\n",
       "      <td>Home improvement</td>\n",
       "      <td>No More Credit Cards</td>\n",
       "      <td>Debt consolidation</td>\n",
       "      <td>Debt Consolidation</td>\n",
       "      <td>...</td>\n",
       "      <td>Debt consolidation</td>\n",
       "      <td>2011 Insurance and Debt Consolidation</td>\n",
       "      <td>Debt consolidation</td>\n",
       "      <td>Debt consolidation</td>\n",
       "      <td>Credit buster</td>\n",
       "      <td>Debt consolidation</td>\n",
       "      <td>Debt consolidation</td>\n",
       "      <td>pay off credit cards</td>\n",
       "      <td>Loanforpayoff</td>\n",
       "      <td>Toxic Debt Payoff</td>\n",
       "    </tr>\n",
       "    <tr>\n",
       "      <th>verification_status</th>\n",
       "      <td>Not Verified</td>\n",
       "      <td>Not Verified</td>\n",
       "      <td>Source Verified</td>\n",
       "      <td>Not Verified</td>\n",
       "      <td>Verified</td>\n",
       "      <td>Verified</td>\n",
       "      <td>Source Verified</td>\n",
       "      <td>Not Verified</td>\n",
       "      <td>Verified</td>\n",
       "      <td>Verified</td>\n",
       "      <td>...</td>\n",
       "      <td>Not Verified</td>\n",
       "      <td>Not Verified</td>\n",
       "      <td>Source Verified</td>\n",
       "      <td>Not Verified</td>\n",
       "      <td>Not Verified</td>\n",
       "      <td>Source Verified</td>\n",
       "      <td>Source Verified</td>\n",
       "      <td>Verified</td>\n",
       "      <td>Verified</td>\n",
       "      <td>Verified</td>\n",
       "    </tr>\n",
       "  </tbody>\n",
       "</table>\n",
       "<p>14 rows × 396030 columns</p>\n",
       "</div>"
      ],
      "text/plain": [
       "                                                           0       \\\n",
       "address              0174 Michelle Gateway\\nMendozaberg, OK 22690   \n",
       "application_type                                       INDIVIDUAL   \n",
       "earliest_cr_line                                         Jun-1990   \n",
       "emp_length                                              10+ years   \n",
       "emp_title                                               Marketing   \n",
       "grade                                                           B   \n",
       "home_ownership                                               RENT   \n",
       "initial_list_status                                             w   \n",
       "issue_d                                                  Jan-2015   \n",
       "purpose                                                  vacation   \n",
       "sub_grade                                                      B4   \n",
       "term                                                    36 months   \n",
       "title                                                    Vacation   \n",
       "verification_status                                  Not Verified   \n",
       "\n",
       "                                                              1       \\\n",
       "address              1076 Carney Fort Apt. 347\\nLoganmouth, SD 05113   \n",
       "application_type                                          INDIVIDUAL   \n",
       "earliest_cr_line                                            Jul-2004   \n",
       "emp_length                                                   4 years   \n",
       "emp_title                                            Credit analyst    \n",
       "grade                                                              B   \n",
       "home_ownership                                              MORTGAGE   \n",
       "initial_list_status                                                f   \n",
       "issue_d                                                     Jan-2015   \n",
       "purpose                                           debt_consolidation   \n",
       "sub_grade                                                         B5   \n",
       "term                                                       36 months   \n",
       "title                                             Debt consolidation   \n",
       "verification_status                                     Not Verified   \n",
       "\n",
       "                                                              2       \\\n",
       "address              87025 Mark Dale Apt. 269\\nNew Sabrina, WV 05113   \n",
       "application_type                                          INDIVIDUAL   \n",
       "earliest_cr_line                                            Aug-2007   \n",
       "emp_length                                                  < 1 year   \n",
       "emp_title                                               Statistician   \n",
       "grade                                                              B   \n",
       "home_ownership                                                  RENT   \n",
       "initial_list_status                                                f   \n",
       "issue_d                                                     Jan-2015   \n",
       "purpose                                                  credit_card   \n",
       "sub_grade                                                         B3   \n",
       "term                                                       36 months   \n",
       "title                                        Credit card refinancing   \n",
       "verification_status                                  Source Verified   \n",
       "\n",
       "                                                    3       \\\n",
       "address              823 Reid Ford\\nDelacruzside, MA 00813   \n",
       "application_type                                INDIVIDUAL   \n",
       "earliest_cr_line                                  Sep-2006   \n",
       "emp_length                                         6 years   \n",
       "emp_title                                  Client Advocate   \n",
       "grade                                                    A   \n",
       "home_ownership                                        RENT   \n",
       "initial_list_status                                      f   \n",
       "issue_d                                           Nov-2014   \n",
       "purpose                                        credit_card   \n",
       "sub_grade                                               A2   \n",
       "term                                             36 months   \n",
       "title                              Credit card refinancing   \n",
       "verification_status                           Not Verified   \n",
       "\n",
       "                                                   4       \\\n",
       "address              679 Luna Roads\\nGreggshire, VA 11650   \n",
       "application_type                               INDIVIDUAL   \n",
       "earliest_cr_line                                 Mar-1999   \n",
       "emp_length                                        9 years   \n",
       "emp_title                         Destiny Management Inc.   \n",
       "grade                                                   C   \n",
       "home_ownership                                   MORTGAGE   \n",
       "initial_list_status                                     f   \n",
       "issue_d                                          Apr-2013   \n",
       "purpose                                       credit_card   \n",
       "sub_grade                                              C5   \n",
       "term                                            60 months   \n",
       "title                               Credit Card Refinance   \n",
       "verification_status                              Verified   \n",
       "\n",
       "                                                                5       \\\n",
       "address              1726 Cooper Passage Suite 129\\nNorth Deniseber...   \n",
       "application_type                                            INDIVIDUAL   \n",
       "earliest_cr_line                                              Jan-2005   \n",
       "emp_length                                                   10+ years   \n",
       "emp_title                                                HR Specialist   \n",
       "grade                                                                C   \n",
       "home_ownership                                                MORTGAGE   \n",
       "initial_list_status                                                  f   \n",
       "issue_d                                                       Sep-2015   \n",
       "purpose                                             debt_consolidation   \n",
       "sub_grade                                                           C3   \n",
       "term                                                         36 months   \n",
       "title                                               Debt consolidation   \n",
       "verification_status                                           Verified   \n",
       "\n",
       "                                                                6       \\\n",
       "address              1008 Erika Vista Suite 748\\nEast Stephanie, TX...   \n",
       "application_type                                            INDIVIDUAL   \n",
       "earliest_cr_line                                              Aug-2005   \n",
       "emp_length                                                     2 years   \n",
       "emp_title                                Software Development Engineer   \n",
       "grade                                                                A   \n",
       "home_ownership                                                MORTGAGE   \n",
       "initial_list_status                                                  f   \n",
       "issue_d                                                       Sep-2015   \n",
       "purpose                                               home_improvement   \n",
       "sub_grade                                                           A1   \n",
       "term                                                         36 months   \n",
       "title                                                 Home improvement   \n",
       "verification_status                                    Source Verified   \n",
       "\n",
       "                                        7                         8       \\\n",
       "address              USCGC Nunez\\nFPO AE 30723  USCGC Tran\\nFPO AP 22690   \n",
       "application_type                    INDIVIDUAL                INDIVIDUAL   \n",
       "earliest_cr_line                      Sep-1994                  Jun-1994   \n",
       "emp_length                           10+ years                 10+ years   \n",
       "emp_title                         Office Depot     Application Architect   \n",
       "grade                                        B                         B   \n",
       "home_ownership                            RENT                      RENT   \n",
       "initial_list_status                          f                         w   \n",
       "issue_d                               Sep-2012                  Oct-2014   \n",
       "purpose                            credit_card        debt_consolidation   \n",
       "sub_grade                                   B2                        B3   \n",
       "term                                 36 months                 60 months   \n",
       "title                     No More Credit Cards        Debt consolidation   \n",
       "verification_status               Not Verified                  Verified   \n",
       "\n",
       "                                                   9       ...  \\\n",
       "address              3390 Luis Rue\\nMauricestad, VA 00813  ...   \n",
       "application_type                               INDIVIDUAL  ...   \n",
       "earliest_cr_line                                 Dec-1997  ...   \n",
       "emp_length                                        3 years  ...   \n",
       "emp_title                              Regado Biosciences  ...   \n",
       "grade                                                   C  ...   \n",
       "home_ownership                                   MORTGAGE  ...   \n",
       "initial_list_status                                     f  ...   \n",
       "issue_d                                          Apr-2012  ...   \n",
       "purpose                                debt_consolidation  ...   \n",
       "sub_grade                                              C5  ...   \n",
       "term                                            36 months  ...   \n",
       "title                                  Debt Consolidation  ...   \n",
       "verification_status                              Verified  ...   \n",
       "\n",
       "                                                                396020  \\\n",
       "address              914 Alexander Mountains Apt. 604\\nEast Marco, ...   \n",
       "application_type                                            INDIVIDUAL   \n",
       "earliest_cr_line                                              Jan-1988   \n",
       "emp_length                                                   10+ years   \n",
       "emp_title                                         Retirement Counselor   \n",
       "grade                                                                B   \n",
       "home_ownership                                                    RENT   \n",
       "initial_list_status                                                  w   \n",
       "issue_d                                                       Dec-2015   \n",
       "purpose                                             debt_consolidation   \n",
       "sub_grade                                                           B3   \n",
       "term                                                         36 months   \n",
       "title                                               Debt consolidation   \n",
       "verification_status                                       Not Verified   \n",
       "\n",
       "                                                    396021  \\\n",
       "address              309 John Mission\\nWest Marc, NY 00813   \n",
       "application_type                                INDIVIDUAL   \n",
       "earliest_cr_line                                  Nov-1996   \n",
       "emp_length                                       10+ years   \n",
       "emp_title                        St Francis Medical Center   \n",
       "grade                                                    A   \n",
       "home_ownership                                        RENT   \n",
       "initial_list_status                                      f   \n",
       "issue_d                                           Feb-2011   \n",
       "purpose                                 debt_consolidation   \n",
       "sub_grade                                               A1   \n",
       "term                                             36 months   \n",
       "title                2011 Insurance and Debt Consolidation   \n",
       "verification_status                           Not Verified   \n",
       "\n",
       "                                                                396022  \\\n",
       "address              532 Johnson Drive Apt. 185\\nAndersonside, NY 7...   \n",
       "application_type                                            INDIVIDUAL   \n",
       "earliest_cr_line                                              Oct-2004   \n",
       "emp_length                                                      1 year   \n",
       "emp_title                                    Data Center Specialist II   \n",
       "grade                                                                C   \n",
       "home_ownership                                                    RENT   \n",
       "initial_list_status                                                  w   \n",
       "issue_d                                                       Oct-2015   \n",
       "purpose                                             debt_consolidation   \n",
       "sub_grade                                                           C1   \n",
       "term                                                         36 months   \n",
       "title                                               Debt consolidation   \n",
       "verification_status                                    Source Verified   \n",
       "\n",
       "                                                               396023  \\\n",
       "address              0297 Flores Dale Suite 441\\nTaylorland, MD 05113   \n",
       "application_type                                           INDIVIDUAL   \n",
       "earliest_cr_line                                             May-1998   \n",
       "emp_length                                                  10+ years   \n",
       "emp_title                                          Operations Manager   \n",
       "grade                                                               D   \n",
       "home_ownership                                               MORTGAGE   \n",
       "initial_list_status                                                 f   \n",
       "issue_d                                                      Apr-2014   \n",
       "purpose                                            debt_consolidation   \n",
       "sub_grade                                                          D4   \n",
       "term                                                        36 months   \n",
       "title                                              Debt consolidation   \n",
       "verification_status                                      Not Verified   \n",
       "\n",
       "                                                                396024  \\\n",
       "address              514 Cynthia Park Apt. 402\\nWest Williamside, S...   \n",
       "application_type                                            INDIVIDUAL   \n",
       "earliest_cr_line                                              Nov-1991   \n",
       "emp_length                                                     5 years   \n",
       "emp_title                                      Michael's Arts & Crafts   \n",
       "grade                                                                B   \n",
       "home_ownership                                                    RENT   \n",
       "initial_list_status                                                  w   \n",
       "issue_d                                                       Mar-2013   \n",
       "purpose                                             debt_consolidation   \n",
       "sub_grade                                                           B4   \n",
       "term                                                         36 months   \n",
       "title                                                   Credit buster    \n",
       "verification_status                                       Not Verified   \n",
       "\n",
       "                                                             396025  \\\n",
       "address              12951 Williams Crossing\\nJohnnyville, DC 30723   \n",
       "application_type                                         INDIVIDUAL   \n",
       "earliest_cr_line                                           Nov-2004   \n",
       "emp_length                                                  2 years   \n",
       "emp_title                                          licensed bankere   \n",
       "grade                                                             B   \n",
       "home_ownership                                                 RENT   \n",
       "initial_list_status                                               w   \n",
       "issue_d                                                    Oct-2015   \n",
       "purpose                                          debt_consolidation   \n",
       "sub_grade                                                        B4   \n",
       "term                                                      60 months   \n",
       "title                                            Debt consolidation   \n",
       "verification_status                                 Source Verified   \n",
       "\n",
       "                                                                396026  \\\n",
       "address              0114 Fowler Field Suite 028\\nRachelborough, LA...   \n",
       "application_type                                            INDIVIDUAL   \n",
       "earliest_cr_line                                              Feb-2006   \n",
       "emp_length                                                     5 years   \n",
       "emp_title                                                        Agent   \n",
       "grade                                                                C   \n",
       "home_ownership                                                MORTGAGE   \n",
       "initial_list_status                                                  f   \n",
       "issue_d                                                       Feb-2015   \n",
       "purpose                                             debt_consolidation   \n",
       "sub_grade                                                           C1   \n",
       "term                                                         36 months   \n",
       "title                                               Debt consolidation   \n",
       "verification_status                                    Source Verified   \n",
       "\n",
       "                                                               396027  \\\n",
       "address              953 Matthew Points Suite 414\\nReedfort, NY 70466   \n",
       "application_type                                           INDIVIDUAL   \n",
       "earliest_cr_line                                             Mar-1997   \n",
       "emp_length                                                  10+ years   \n",
       "emp_title                                                City Carrier   \n",
       "grade                                                               B   \n",
       "home_ownership                                                   RENT   \n",
       "initial_list_status                                                 f   \n",
       "issue_d                                                      Oct-2013   \n",
       "purpose                                            debt_consolidation   \n",
       "sub_grade                                                          B1   \n",
       "term                                                        36 months   \n",
       "title                                            pay off credit cards   \n",
       "verification_status                                          Verified   \n",
       "\n",
       "                                                                396028  \\\n",
       "address              7843 Blake Freeway Apt. 229\\nNew Michael, FL 2...   \n",
       "application_type                                            INDIVIDUAL   \n",
       "earliest_cr_line                                              Nov-1990   \n",
       "emp_length                                                   10+ years   \n",
       "emp_title                                         Gracon Services, Inc   \n",
       "grade                                                                C   \n",
       "home_ownership                                                MORTGAGE   \n",
       "initial_list_status                                                  f   \n",
       "issue_d                                                       Aug-2012   \n",
       "purpose                                             debt_consolidation   \n",
       "sub_grade                                                           C2   \n",
       "term                                                         60 months   \n",
       "title                                                    Loanforpayoff   \n",
       "verification_status                                           Verified   \n",
       "\n",
       "                                                          396029  \n",
       "address              787 Michelle Causeway\\nBriannaton, AR 48052  \n",
       "application_type                                      INDIVIDUAL  \n",
       "earliest_cr_line                                        Sep-1998  \n",
       "emp_length                                             10+ years  \n",
       "emp_title                               Internal Revenue Service  \n",
       "grade                                                          C  \n",
       "home_ownership                                              RENT  \n",
       "initial_list_status                                            f  \n",
       "issue_d                                                 Jun-2010  \n",
       "purpose                                       debt_consolidation  \n",
       "sub_grade                                                     C2  \n",
       "term                                                   36 months  \n",
       "title                                          Toxic Debt Payoff  \n",
       "verification_status                                     Verified  \n",
       "\n",
       "[14 rows x 396030 columns]"
      ]
     },
     "execution_count": 19,
     "metadata": {},
     "output_type": "execute_result"
    }
   ],
   "source": [
    "df.select_dtypes(exclude='number').drop('loan_status', axis =1).T.sort_index()"
   ]
  },
  {
   "cell_type": "markdown",
   "id": "b6ff1c75",
   "metadata": {},
   "source": [
    "#### exclude address, earliest_cr_line and issue_d for now"
   ]
  },
  {
   "cell_type": "code",
   "execution_count": 20,
   "id": "96954d44",
   "metadata": {},
   "outputs": [
    {
     "data": {
      "text/html": [
       "<div>\n",
       "<style scoped>\n",
       "    .dataframe tbody tr th:only-of-type {\n",
       "        vertical-align: middle;\n",
       "    }\n",
       "\n",
       "    .dataframe tbody tr th {\n",
       "        vertical-align: top;\n",
       "    }\n",
       "\n",
       "    .dataframe thead th {\n",
       "        text-align: right;\n",
       "    }\n",
       "</style>\n",
       "<table border=\"1\" class=\"dataframe\">\n",
       "  <thead>\n",
       "    <tr style=\"text-align: right;\">\n",
       "      <th></th>\n",
       "      <th>0</th>\n",
       "      <th>1</th>\n",
       "      <th>2</th>\n",
       "      <th>3</th>\n",
       "      <th>4</th>\n",
       "      <th>5</th>\n",
       "      <th>6</th>\n",
       "      <th>7</th>\n",
       "      <th>8</th>\n",
       "      <th>9</th>\n",
       "      <th>...</th>\n",
       "      <th>396020</th>\n",
       "      <th>396021</th>\n",
       "      <th>396022</th>\n",
       "      <th>396023</th>\n",
       "      <th>396024</th>\n",
       "      <th>396025</th>\n",
       "      <th>396026</th>\n",
       "      <th>396027</th>\n",
       "      <th>396028</th>\n",
       "      <th>396029</th>\n",
       "    </tr>\n",
       "  </thead>\n",
       "  <tbody>\n",
       "    <tr>\n",
       "      <th>application_type</th>\n",
       "      <td>INDIVIDUAL</td>\n",
       "      <td>INDIVIDUAL</td>\n",
       "      <td>INDIVIDUAL</td>\n",
       "      <td>INDIVIDUAL</td>\n",
       "      <td>INDIVIDUAL</td>\n",
       "      <td>INDIVIDUAL</td>\n",
       "      <td>INDIVIDUAL</td>\n",
       "      <td>INDIVIDUAL</td>\n",
       "      <td>INDIVIDUAL</td>\n",
       "      <td>INDIVIDUAL</td>\n",
       "      <td>...</td>\n",
       "      <td>INDIVIDUAL</td>\n",
       "      <td>INDIVIDUAL</td>\n",
       "      <td>INDIVIDUAL</td>\n",
       "      <td>INDIVIDUAL</td>\n",
       "      <td>INDIVIDUAL</td>\n",
       "      <td>INDIVIDUAL</td>\n",
       "      <td>INDIVIDUAL</td>\n",
       "      <td>INDIVIDUAL</td>\n",
       "      <td>INDIVIDUAL</td>\n",
       "      <td>INDIVIDUAL</td>\n",
       "    </tr>\n",
       "    <tr>\n",
       "      <th>emp_length</th>\n",
       "      <td>10+ years</td>\n",
       "      <td>4 years</td>\n",
       "      <td>&lt; 1 year</td>\n",
       "      <td>6 years</td>\n",
       "      <td>9 years</td>\n",
       "      <td>10+ years</td>\n",
       "      <td>2 years</td>\n",
       "      <td>10+ years</td>\n",
       "      <td>10+ years</td>\n",
       "      <td>3 years</td>\n",
       "      <td>...</td>\n",
       "      <td>10+ years</td>\n",
       "      <td>10+ years</td>\n",
       "      <td>1 year</td>\n",
       "      <td>10+ years</td>\n",
       "      <td>5 years</td>\n",
       "      <td>2 years</td>\n",
       "      <td>5 years</td>\n",
       "      <td>10+ years</td>\n",
       "      <td>10+ years</td>\n",
       "      <td>10+ years</td>\n",
       "    </tr>\n",
       "    <tr>\n",
       "      <th>emp_title</th>\n",
       "      <td>Marketing</td>\n",
       "      <td>Credit analyst</td>\n",
       "      <td>Statistician</td>\n",
       "      <td>Client Advocate</td>\n",
       "      <td>Destiny Management Inc.</td>\n",
       "      <td>HR Specialist</td>\n",
       "      <td>Software Development Engineer</td>\n",
       "      <td>Office Depot</td>\n",
       "      <td>Application Architect</td>\n",
       "      <td>Regado Biosciences</td>\n",
       "      <td>...</td>\n",
       "      <td>Retirement Counselor</td>\n",
       "      <td>St Francis Medical Center</td>\n",
       "      <td>Data Center Specialist II</td>\n",
       "      <td>Operations Manager</td>\n",
       "      <td>Michael's Arts &amp; Crafts</td>\n",
       "      <td>licensed bankere</td>\n",
       "      <td>Agent</td>\n",
       "      <td>City Carrier</td>\n",
       "      <td>Gracon Services, Inc</td>\n",
       "      <td>Internal Revenue Service</td>\n",
       "    </tr>\n",
       "    <tr>\n",
       "      <th>grade</th>\n",
       "      <td>B</td>\n",
       "      <td>B</td>\n",
       "      <td>B</td>\n",
       "      <td>A</td>\n",
       "      <td>C</td>\n",
       "      <td>C</td>\n",
       "      <td>A</td>\n",
       "      <td>B</td>\n",
       "      <td>B</td>\n",
       "      <td>C</td>\n",
       "      <td>...</td>\n",
       "      <td>B</td>\n",
       "      <td>A</td>\n",
       "      <td>C</td>\n",
       "      <td>D</td>\n",
       "      <td>B</td>\n",
       "      <td>B</td>\n",
       "      <td>C</td>\n",
       "      <td>B</td>\n",
       "      <td>C</td>\n",
       "      <td>C</td>\n",
       "    </tr>\n",
       "    <tr>\n",
       "      <th>home_ownership</th>\n",
       "      <td>RENT</td>\n",
       "      <td>MORTGAGE</td>\n",
       "      <td>RENT</td>\n",
       "      <td>RENT</td>\n",
       "      <td>MORTGAGE</td>\n",
       "      <td>MORTGAGE</td>\n",
       "      <td>MORTGAGE</td>\n",
       "      <td>RENT</td>\n",
       "      <td>RENT</td>\n",
       "      <td>MORTGAGE</td>\n",
       "      <td>...</td>\n",
       "      <td>RENT</td>\n",
       "      <td>RENT</td>\n",
       "      <td>RENT</td>\n",
       "      <td>MORTGAGE</td>\n",
       "      <td>RENT</td>\n",
       "      <td>RENT</td>\n",
       "      <td>MORTGAGE</td>\n",
       "      <td>RENT</td>\n",
       "      <td>MORTGAGE</td>\n",
       "      <td>RENT</td>\n",
       "    </tr>\n",
       "    <tr>\n",
       "      <th>initial_list_status</th>\n",
       "      <td>w</td>\n",
       "      <td>f</td>\n",
       "      <td>f</td>\n",
       "      <td>f</td>\n",
       "      <td>f</td>\n",
       "      <td>f</td>\n",
       "      <td>f</td>\n",
       "      <td>f</td>\n",
       "      <td>w</td>\n",
       "      <td>f</td>\n",
       "      <td>...</td>\n",
       "      <td>w</td>\n",
       "      <td>f</td>\n",
       "      <td>w</td>\n",
       "      <td>f</td>\n",
       "      <td>w</td>\n",
       "      <td>w</td>\n",
       "      <td>f</td>\n",
       "      <td>f</td>\n",
       "      <td>f</td>\n",
       "      <td>f</td>\n",
       "    </tr>\n",
       "    <tr>\n",
       "      <th>purpose</th>\n",
       "      <td>vacation</td>\n",
       "      <td>debt_consolidation</td>\n",
       "      <td>credit_card</td>\n",
       "      <td>credit_card</td>\n",
       "      <td>credit_card</td>\n",
       "      <td>debt_consolidation</td>\n",
       "      <td>home_improvement</td>\n",
       "      <td>credit_card</td>\n",
       "      <td>debt_consolidation</td>\n",
       "      <td>debt_consolidation</td>\n",
       "      <td>...</td>\n",
       "      <td>debt_consolidation</td>\n",
       "      <td>debt_consolidation</td>\n",
       "      <td>debt_consolidation</td>\n",
       "      <td>debt_consolidation</td>\n",
       "      <td>debt_consolidation</td>\n",
       "      <td>debt_consolidation</td>\n",
       "      <td>debt_consolidation</td>\n",
       "      <td>debt_consolidation</td>\n",
       "      <td>debt_consolidation</td>\n",
       "      <td>debt_consolidation</td>\n",
       "    </tr>\n",
       "    <tr>\n",
       "      <th>sub_grade</th>\n",
       "      <td>B4</td>\n",
       "      <td>B5</td>\n",
       "      <td>B3</td>\n",
       "      <td>A2</td>\n",
       "      <td>C5</td>\n",
       "      <td>C3</td>\n",
       "      <td>A1</td>\n",
       "      <td>B2</td>\n",
       "      <td>B3</td>\n",
       "      <td>C5</td>\n",
       "      <td>...</td>\n",
       "      <td>B3</td>\n",
       "      <td>A1</td>\n",
       "      <td>C1</td>\n",
       "      <td>D4</td>\n",
       "      <td>B4</td>\n",
       "      <td>B4</td>\n",
       "      <td>C1</td>\n",
       "      <td>B1</td>\n",
       "      <td>C2</td>\n",
       "      <td>C2</td>\n",
       "    </tr>\n",
       "    <tr>\n",
       "      <th>term</th>\n",
       "      <td>36 months</td>\n",
       "      <td>36 months</td>\n",
       "      <td>36 months</td>\n",
       "      <td>36 months</td>\n",
       "      <td>60 months</td>\n",
       "      <td>36 months</td>\n",
       "      <td>36 months</td>\n",
       "      <td>36 months</td>\n",
       "      <td>60 months</td>\n",
       "      <td>36 months</td>\n",
       "      <td>...</td>\n",
       "      <td>36 months</td>\n",
       "      <td>36 months</td>\n",
       "      <td>36 months</td>\n",
       "      <td>36 months</td>\n",
       "      <td>36 months</td>\n",
       "      <td>60 months</td>\n",
       "      <td>36 months</td>\n",
       "      <td>36 months</td>\n",
       "      <td>60 months</td>\n",
       "      <td>36 months</td>\n",
       "    </tr>\n",
       "    <tr>\n",
       "      <th>title</th>\n",
       "      <td>Vacation</td>\n",
       "      <td>Debt consolidation</td>\n",
       "      <td>Credit card refinancing</td>\n",
       "      <td>Credit card refinancing</td>\n",
       "      <td>Credit Card Refinance</td>\n",
       "      <td>Debt consolidation</td>\n",
       "      <td>Home improvement</td>\n",
       "      <td>No More Credit Cards</td>\n",
       "      <td>Debt consolidation</td>\n",
       "      <td>Debt Consolidation</td>\n",
       "      <td>...</td>\n",
       "      <td>Debt consolidation</td>\n",
       "      <td>2011 Insurance and Debt Consolidation</td>\n",
       "      <td>Debt consolidation</td>\n",
       "      <td>Debt consolidation</td>\n",
       "      <td>Credit buster</td>\n",
       "      <td>Debt consolidation</td>\n",
       "      <td>Debt consolidation</td>\n",
       "      <td>pay off credit cards</td>\n",
       "      <td>Loanforpayoff</td>\n",
       "      <td>Toxic Debt Payoff</td>\n",
       "    </tr>\n",
       "    <tr>\n",
       "      <th>verification_status</th>\n",
       "      <td>Not Verified</td>\n",
       "      <td>Not Verified</td>\n",
       "      <td>Source Verified</td>\n",
       "      <td>Not Verified</td>\n",
       "      <td>Verified</td>\n",
       "      <td>Verified</td>\n",
       "      <td>Source Verified</td>\n",
       "      <td>Not Verified</td>\n",
       "      <td>Verified</td>\n",
       "      <td>Verified</td>\n",
       "      <td>...</td>\n",
       "      <td>Not Verified</td>\n",
       "      <td>Not Verified</td>\n",
       "      <td>Source Verified</td>\n",
       "      <td>Not Verified</td>\n",
       "      <td>Not Verified</td>\n",
       "      <td>Source Verified</td>\n",
       "      <td>Source Verified</td>\n",
       "      <td>Verified</td>\n",
       "      <td>Verified</td>\n",
       "      <td>Verified</td>\n",
       "    </tr>\n",
       "  </tbody>\n",
       "</table>\n",
       "<p>11 rows × 396030 columns</p>\n",
       "</div>"
      ],
      "text/plain": [
       "                           0                   1       \\\n",
       "application_type       INDIVIDUAL          INDIVIDUAL   \n",
       "emp_length              10+ years             4 years   \n",
       "emp_title               Marketing     Credit analyst    \n",
       "grade                           B                   B   \n",
       "home_ownership               RENT            MORTGAGE   \n",
       "initial_list_status             w                   f   \n",
       "purpose                  vacation  debt_consolidation   \n",
       "sub_grade                      B4                  B5   \n",
       "term                    36 months           36 months   \n",
       "title                    Vacation  Debt consolidation   \n",
       "verification_status  Not Verified        Not Verified   \n",
       "\n",
       "                                      2                        3       \\\n",
       "application_type                  INDIVIDUAL               INDIVIDUAL   \n",
       "emp_length                          < 1 year                  6 years   \n",
       "emp_title                       Statistician          Client Advocate   \n",
       "grade                                      B                        A   \n",
       "home_ownership                          RENT                     RENT   \n",
       "initial_list_status                        f                        f   \n",
       "purpose                          credit_card              credit_card   \n",
       "sub_grade                                 B3                       A2   \n",
       "term                               36 months                36 months   \n",
       "title                Credit card refinancing  Credit card refinancing   \n",
       "verification_status          Source Verified             Not Verified   \n",
       "\n",
       "                                      4                   5       \\\n",
       "application_type                  INDIVIDUAL          INDIVIDUAL   \n",
       "emp_length                           9 years           10+ years   \n",
       "emp_title            Destiny Management Inc.       HR Specialist   \n",
       "grade                                      C                   C   \n",
       "home_ownership                      MORTGAGE            MORTGAGE   \n",
       "initial_list_status                        f                   f   \n",
       "purpose                          credit_card  debt_consolidation   \n",
       "sub_grade                                 C5                  C3   \n",
       "term                               60 months           36 months   \n",
       "title                  Credit Card Refinance  Debt consolidation   \n",
       "verification_status                 Verified            Verified   \n",
       "\n",
       "                                            6                     7       \\\n",
       "application_type                        INDIVIDUAL            INDIVIDUAL   \n",
       "emp_length                                 2 years             10+ years   \n",
       "emp_title            Software Development Engineer          Office Depot   \n",
       "grade                                            A                     B   \n",
       "home_ownership                            MORTGAGE                  RENT   \n",
       "initial_list_status                              f                     f   \n",
       "purpose                           home_improvement           credit_card   \n",
       "sub_grade                                       A1                    B2   \n",
       "term                                     36 months             36 months   \n",
       "title                             Home improvement  No More Credit Cards   \n",
       "verification_status                Source Verified          Not Verified   \n",
       "\n",
       "                                    8                   9       ...  \\\n",
       "application_type                INDIVIDUAL          INDIVIDUAL  ...   \n",
       "emp_length                       10+ years             3 years  ...   \n",
       "emp_title            Application Architect  Regado Biosciences  ...   \n",
       "grade                                    B                   C  ...   \n",
       "home_ownership                        RENT            MORTGAGE  ...   \n",
       "initial_list_status                      w                   f  ...   \n",
       "purpose                 debt_consolidation  debt_consolidation  ...   \n",
       "sub_grade                               B3                  C5  ...   \n",
       "term                             60 months           36 months  ...   \n",
       "title                   Debt consolidation  Debt Consolidation  ...   \n",
       "verification_status               Verified            Verified  ...   \n",
       "\n",
       "                                   396020  \\\n",
       "application_type               INDIVIDUAL   \n",
       "emp_length                      10+ years   \n",
       "emp_title            Retirement Counselor   \n",
       "grade                                   B   \n",
       "home_ownership                       RENT   \n",
       "initial_list_status                     w   \n",
       "purpose                debt_consolidation   \n",
       "sub_grade                              B3   \n",
       "term                            36 months   \n",
       "title                  Debt consolidation   \n",
       "verification_status          Not Verified   \n",
       "\n",
       "                                                    396021  \\\n",
       "application_type                                INDIVIDUAL   \n",
       "emp_length                                       10+ years   \n",
       "emp_title                        St Francis Medical Center   \n",
       "grade                                                    A   \n",
       "home_ownership                                        RENT   \n",
       "initial_list_status                                      f   \n",
       "purpose                                 debt_consolidation   \n",
       "sub_grade                                               A1   \n",
       "term                                             36 months   \n",
       "title                2011 Insurance and Debt Consolidation   \n",
       "verification_status                           Not Verified   \n",
       "\n",
       "                                        396022              396023  \\\n",
       "application_type                    INDIVIDUAL          INDIVIDUAL   \n",
       "emp_length                              1 year           10+ years   \n",
       "emp_title            Data Center Specialist II  Operations Manager   \n",
       "grade                                        C                   D   \n",
       "home_ownership                            RENT            MORTGAGE   \n",
       "initial_list_status                          w                   f   \n",
       "purpose                     debt_consolidation  debt_consolidation   \n",
       "sub_grade                                   C1                  D4   \n",
       "term                                 36 months           36 months   \n",
       "title                       Debt consolidation  Debt consolidation   \n",
       "verification_status            Source Verified        Not Verified   \n",
       "\n",
       "                                      396024              396025  \\\n",
       "application_type                  INDIVIDUAL          INDIVIDUAL   \n",
       "emp_length                           5 years             2 years   \n",
       "emp_title            Michael's Arts & Crafts    licensed bankere   \n",
       "grade                                      B                   B   \n",
       "home_ownership                          RENT                RENT   \n",
       "initial_list_status                        w                   w   \n",
       "purpose                   debt_consolidation  debt_consolidation   \n",
       "sub_grade                                 B4                  B4   \n",
       "term                               36 months           60 months   \n",
       "title                         Credit buster   Debt consolidation   \n",
       "verification_status             Not Verified     Source Verified   \n",
       "\n",
       "                                 396026                396027  \\\n",
       "application_type             INDIVIDUAL            INDIVIDUAL   \n",
       "emp_length                      5 years             10+ years   \n",
       "emp_title                         Agent          City Carrier   \n",
       "grade                                 C                     B   \n",
       "home_ownership                 MORTGAGE                  RENT   \n",
       "initial_list_status                   f                     f   \n",
       "purpose              debt_consolidation    debt_consolidation   \n",
       "sub_grade                            C1                    B1   \n",
       "term                          36 months             36 months   \n",
       "title                Debt consolidation  pay off credit cards   \n",
       "verification_status     Source Verified              Verified   \n",
       "\n",
       "                                   396028                    396029  \n",
       "application_type               INDIVIDUAL                INDIVIDUAL  \n",
       "emp_length                      10+ years                 10+ years  \n",
       "emp_title            Gracon Services, Inc  Internal Revenue Service  \n",
       "grade                                   C                         C  \n",
       "home_ownership                   MORTGAGE                      RENT  \n",
       "initial_list_status                     f                         f  \n",
       "purpose                debt_consolidation        debt_consolidation  \n",
       "sub_grade                              C2                        C2  \n",
       "term                            60 months                 36 months  \n",
       "title                       Loanforpayoff         Toxic Debt Payoff  \n",
       "verification_status              Verified                  Verified  \n",
       "\n",
       "[11 rows x 396030 columns]"
      ]
     },
     "execution_count": 20,
     "metadata": {},
     "output_type": "execute_result"
    }
   ],
   "source": [
    "df.select_dtypes(exclude='number').drop(['loan_status', 'address', 'earliest_cr_line', 'issue_d'], axis =1).T.sort_index()"
   ]
  },
  {
   "cell_type": "markdown",
   "id": "0b00e00a",
   "metadata": {},
   "source": [
    "### Create dataframe - proportion of loan status for each categorical variable"
   ]
  },
  {
   "cell_type": "code",
   "execution_count": 21,
   "id": "bc7ddd04",
   "metadata": {},
   "outputs": [
    {
     "data": {
      "text/plain": [
       "Index(['application_type', 'emp_length', 'emp_title', 'grade',\n",
       "       'home_ownership', 'initial_list_status', 'purpose', 'sub_grade', 'term',\n",
       "       'title', 'verification_status'],\n",
       "      dtype='object')"
      ]
     },
     "execution_count": 21,
     "metadata": {},
     "output_type": "execute_result"
    }
   ],
   "source": [
    "# Get non-numeric columns - exclude loan status\n",
    "non_numeric_columns = df.select_dtypes(include=['object']).columns.difference(['loan_status', 'address', 'issue_d', 'earliest_cr_line'])\n",
    "non_numeric_columns"
   ]
  },
  {
   "cell_type": "code",
   "execution_count": 22,
   "id": "4aeabfa2",
   "metadata": {},
   "outputs": [],
   "source": [
    "def chargedoff_pc(column):\n",
    "    grouped = df.groupby([column, 'loan_status']).size().unstack(fill_value=0)\n",
    "    return np.std(grouped['Charged Off'] / grouped.sum(axis=1))"
   ]
  },
  {
   "cell_type": "code",
   "execution_count": 23,
   "id": "a1d1f98f",
   "metadata": {},
   "outputs": [],
   "source": [
    "result = {col: chargedoff_pc(col) for col in non_numeric_columns}"
   ]
  },
  {
   "cell_type": "code",
   "execution_count": 24,
   "id": "af9a0755",
   "metadata": {},
   "outputs": [
    {
     "data": {
      "text/plain": [
       "{'application_type': 0.09617822120206268,\n",
       " 'emp_length': 0.0058665623699410375,\n",
       " 'emp_title': 0.3699938555684004,\n",
       " 'grade': 0.14424605384712516,\n",
       " 'home_ownership': 0.0784455819970144,\n",
       " 'initial_list_status': 0.0038473472788894264,\n",
       " 'purpose': 0.043410947469424734,\n",
       " 'sub_grade': 0.14969668217084556,\n",
       " 'term': 0.08083465825125026,\n",
       " 'title': 0.3409076161872671,\n",
       " 'verification_status': 0.03440609943700626}"
      ]
     },
     "execution_count": 24,
     "metadata": {},
     "output_type": "execute_result"
    }
   ],
   "source": [
    "result"
   ]
  },
  {
   "cell_type": "code",
   "execution_count": 25,
   "id": "9381a626",
   "metadata": {},
   "outputs": [
    {
     "data": {
      "text/html": [
       "<div>\n",
       "<style scoped>\n",
       "    .dataframe tbody tr th:only-of-type {\n",
       "        vertical-align: middle;\n",
       "    }\n",
       "\n",
       "    .dataframe tbody tr th {\n",
       "        vertical-align: top;\n",
       "    }\n",
       "\n",
       "    .dataframe thead th {\n",
       "        text-align: right;\n",
       "    }\n",
       "</style>\n",
       "<table border=\"1\" class=\"dataframe\">\n",
       "  <thead>\n",
       "    <tr style=\"text-align: right;\">\n",
       "      <th></th>\n",
       "      <th>stdev</th>\n",
       "    </tr>\n",
       "  </thead>\n",
       "  <tbody>\n",
       "    <tr>\n",
       "      <th>emp_title</th>\n",
       "      <td>0.369994</td>\n",
       "    </tr>\n",
       "    <tr>\n",
       "      <th>title</th>\n",
       "      <td>0.340908</td>\n",
       "    </tr>\n",
       "    <tr>\n",
       "      <th>sub_grade</th>\n",
       "      <td>0.149697</td>\n",
       "    </tr>\n",
       "    <tr>\n",
       "      <th>grade</th>\n",
       "      <td>0.144246</td>\n",
       "    </tr>\n",
       "    <tr>\n",
       "      <th>application_type</th>\n",
       "      <td>0.096178</td>\n",
       "    </tr>\n",
       "    <tr>\n",
       "      <th>term</th>\n",
       "      <td>0.080835</td>\n",
       "    </tr>\n",
       "    <tr>\n",
       "      <th>home_ownership</th>\n",
       "      <td>0.078446</td>\n",
       "    </tr>\n",
       "    <tr>\n",
       "      <th>purpose</th>\n",
       "      <td>0.043411</td>\n",
       "    </tr>\n",
       "    <tr>\n",
       "      <th>verification_status</th>\n",
       "      <td>0.034406</td>\n",
       "    </tr>\n",
       "    <tr>\n",
       "      <th>emp_length</th>\n",
       "      <td>0.005867</td>\n",
       "    </tr>\n",
       "    <tr>\n",
       "      <th>initial_list_status</th>\n",
       "      <td>0.003847</td>\n",
       "    </tr>\n",
       "  </tbody>\n",
       "</table>\n",
       "</div>"
      ],
      "text/plain": [
       "                        stdev\n",
       "emp_title            0.369994\n",
       "title                0.340908\n",
       "sub_grade            0.149697\n",
       "grade                0.144246\n",
       "application_type     0.096178\n",
       "term                 0.080835\n",
       "home_ownership       0.078446\n",
       "purpose              0.043411\n",
       "verification_status  0.034406\n",
       "emp_length           0.005867\n",
       "initial_list_status  0.003847"
      ]
     },
     "execution_count": 25,
     "metadata": {},
     "output_type": "execute_result"
    }
   ],
   "source": [
    "df_chargedoff_pc = pd.DataFrame(result.values(), index = result.keys(), columns = ['stdev'])\n",
    "df_chargedoff_pc.sort_values('stdev', ascending = False)"
   ]
  },
  {
   "cell_type": "markdown",
   "id": "e7bbaa6d",
   "metadata": {},
   "source": [
    "Looks like sub-grade, application type, term, home ownership and term are most important. Emp length and Initial list status are least important. Graph in order of importance."
   ]
  },
  {
   "cell_type": "code",
   "execution_count": 26,
   "id": "74ef482a",
   "metadata": {},
   "outputs": [],
   "source": [
    "sg_order = df['sub_grade'].value_counts().sort_index().index"
   ]
  },
  {
   "cell_type": "code",
   "execution_count": 27,
   "id": "f16b750e",
   "metadata": {},
   "outputs": [
    {
     "data": {
      "image/png": "[encoded data removed]",
      "text/plain": [
       "<Figure size 640x480 with 1 Axes>"
      ]
     },
     "metadata": {},
     "output_type": "display_data"
    }
   ],
   "source": [
    "sns.countplot(data = df, x = 'sub_grade', hue = 'loan_status', order = sg_order)\n",
    "plt.xticks(rotation = 90);"
   ]
  },
  {
   "cell_type": "code",
   "execution_count": 28,
   "id": "f58046df",
   "metadata": {},
   "outputs": [
    {
     "data": {
      "image/png": "[encoded data removed]",
      "text/plain": [
       "<Figure size 640x480 with 1 Axes>"
      ]
     },
     "metadata": {},
     "output_type": "display_data"
    }
   ],
   "source": [
    "sns.countplot(data = df, x = 'application_type', hue = 'loan_status')\n",
    "plt.xticks(rotation = 90);"
   ]
  },
  {
   "cell_type": "code",
   "execution_count": 29,
   "id": "eadbfc0a",
   "metadata": {},
   "outputs": [
    {
     "data": {
      "image/png": "[encoded data removed]",
      "text/plain": [
       "<Figure size 640x480 with 1 Axes>"
      ]
     },
     "metadata": {},
     "output_type": "display_data"
    }
   ],
   "source": [
    "#take a closer look without indvidual type:\n",
    "sns.countplot(data = df[df['application_type'] != 'INDIVIDUAL'], x = 'application_type', hue = 'loan_status')\n",
    "plt.xticks(rotation = 90);"
   ]
  },
  {
   "cell_type": "code",
   "execution_count": 30,
   "id": "82c4efda",
   "metadata": {},
   "outputs": [
    {
     "data": {
      "text/plain": [
       "application_type\n",
       "DIRECT_PAY    0.356643\n",
       "INDIVIDUAL    0.196087\n",
       "JOINT         0.127059\n",
       "dtype: float64"
      ]
     },
     "execution_count": 30,
     "metadata": {},
     "output_type": "execute_result"
    }
   ],
   "source": [
    "grouped = df.groupby(['application_type', 'loan_status']).size().unstack(fill_value=0)\n",
    "grouped['Charged Off'] / grouped.sum(axis=1)"
   ]
  },
  {
   "cell_type": "code",
   "execution_count": 31,
   "id": "e7121e4c",
   "metadata": {},
   "outputs": [
    {
     "data": {
      "image/png": "[encoded data removed]",
      "text/plain": [
       "<Figure size 640x480 with 1 Axes>"
      ]
     },
     "metadata": {},
     "output_type": "display_data"
    }
   ],
   "source": [
    "sns.countplot(data = df, x = 'term', hue = 'loan_status')\n",
    "plt.xticks(rotation = 90);"
   ]
  },
  {
   "cell_type": "code",
   "execution_count": 32,
   "id": "96a4d3a7",
   "metadata": {},
   "outputs": [
    {
     "data": {
      "image/png": "[encoded data removed]",
      "text/plain": [
       "<Figure size 640x480 with 1 Axes>"
      ]
     },
     "metadata": {},
     "output_type": "display_data"
    }
   ],
   "source": [
    "sns.countplot(data = df, x = 'home_ownership', hue = 'loan_status')\n",
    "plt.xticks(rotation = 90);"
   ]
  },
  {
   "cell_type": "code",
   "execution_count": 33,
   "id": "445a2b04",
   "metadata": {},
   "outputs": [
    {
     "data": {
      "text/plain": [
       "home_ownership\n",
       "ANY         0.000000\n",
       "MORTGAGE    0.169561\n",
       "NONE        0.225806\n",
       "OTHER       0.142857\n",
       "OWN         0.206803\n",
       "RENT        0.226622\n",
       "dtype: float64"
      ]
     },
     "execution_count": 33,
     "metadata": {},
     "output_type": "execute_result"
    }
   ],
   "source": [
    "grouped = df.groupby(['home_ownership', 'loan_status']).size().unstack(fill_value=0)\n",
    "grouped['Charged Off'] / grouped.sum(axis=1)"
   ]
  },
  {
   "cell_type": "code",
   "execution_count": 34,
   "id": "4df80a60",
   "metadata": {},
   "outputs": [
    {
     "data": {
      "image/png": "[encoded data removed]",
      "text/plain": [
       "<Figure size 640x480 with 1 Axes>"
      ]
     },
     "metadata": {},
     "output_type": "display_data"
    }
   ],
   "source": [
    "sns.countplot(data = df, x = 'purpose', hue = 'loan_status')\n",
    "plt.xticks(rotation = 90);"
   ]
  },
  {
   "cell_type": "code",
   "execution_count": 35,
   "id": "2ebe978f",
   "metadata": {},
   "outputs": [
    {
     "data": {
      "text/plain": [
       "purpose\n",
       "car                   0.134767\n",
       "credit_card           0.167118\n",
       "debt_consolidation    0.207414\n",
       "educational           0.163424\n",
       "home_improvement      0.170079\n",
       "house                 0.197183\n",
       "major_purchase        0.164733\n",
       "medical               0.217112\n",
       "moving                0.234758\n",
       "other                 0.212178\n",
       "renewable_energy      0.234043\n",
       "small_business        0.294510\n",
       "vacation              0.189233\n",
       "wedding               0.120861\n",
       "dtype: float64"
      ]
     },
     "execution_count": 35,
     "metadata": {},
     "output_type": "execute_result"
    }
   ],
   "source": [
    "grouped = df.groupby(['purpose', 'loan_status']).size().unstack(fill_value=0)\n",
    "grouped['Charged Off'] / grouped.sum(axis=1)"
   ]
  },
  {
   "cell_type": "code",
   "execution_count": 36,
   "id": "3e9063fc",
   "metadata": {},
   "outputs": [
    {
     "data": {
      "image/png": "[encoded data removed]",
      "text/plain": [
       "<Figure size 640x480 with 1 Axes>"
      ]
     },
     "metadata": {},
     "output_type": "display_data"
    }
   ],
   "source": [
    "sns.countplot(data = df, x = 'verification_status', hue = 'loan_status')\n",
    "plt.xticks(rotation = 90);"
   ]
  },
  {
   "cell_type": "code",
   "execution_count": 37,
   "id": "f9e6a2a4",
   "metadata": {},
   "outputs": [
    {
     "data": {
      "image/png": "[encoded data removed]",
      "text/plain": [
       "<Figure size 640x480 with 1 Axes>"
      ]
     },
     "metadata": {},
     "output_type": "display_data"
    }
   ],
   "source": [
    "sns.countplot(data = df, x = 'emp_length', hue = 'loan_status')\n",
    "plt.xticks(rotation = 90);"
   ]
  },
  {
   "cell_type": "code",
   "execution_count": 38,
   "id": "7a6cbbdd",
   "metadata": {},
   "outputs": [
    {
     "data": {
      "text/plain": [
       "emp_length\n",
       "1 year       0.199135\n",
       "10+ years    0.184186\n",
       "2 years      0.193262\n",
       "3 years      0.195231\n",
       "4 years      0.192385\n",
       "5 years      0.192187\n",
       "6 years      0.189194\n",
       "7 years      0.194774\n",
       "8 years      0.199760\n",
       "9 years      0.200470\n",
       "< 1 year     0.206872\n",
       "dtype: float64"
      ]
     },
     "execution_count": 38,
     "metadata": {},
     "output_type": "execute_result"
    }
   ],
   "source": [
    "grouped = df.groupby(['emp_length', 'loan_status']).size().unstack(fill_value=0)\n",
    "grouped['Charged Off'] / grouped.sum(axis=1)"
   ]
  },
  {
   "cell_type": "code",
   "execution_count": 39,
   "id": "06508074",
   "metadata": {},
   "outputs": [
    {
     "data": {
      "image/png": "[encoded data removed]",
      "text/plain": [
       "<Figure size 640x480 with 1 Axes>"
      ]
     },
     "metadata": {},
     "output_type": "display_data"
    }
   ],
   "source": [
    "sns.countplot(data = df, x = 'initial_list_status', hue = 'loan_status')\n",
    "plt.xticks(rotation = 90);"
   ]
  },
  {
   "cell_type": "code",
   "execution_count": 40,
   "id": "36ab265b",
   "metadata": {},
   "outputs": [
    {
     "data": {
      "text/plain": [
       "initial_list_status\n",
       "f    0.193060\n",
       "w    0.200755\n",
       "dtype: float64"
      ]
     },
     "execution_count": 40,
     "metadata": {},
     "output_type": "execute_result"
    }
   ],
   "source": [
    "grouped = df.groupby(['initial_list_status', 'loan_status']).size().unstack(fill_value=0)\n",
    "grouped['Charged Off'] / grouped.sum(axis=1)"
   ]
  },
  {
   "cell_type": "code",
   "execution_count": 41,
   "id": "8139a2a7",
   "metadata": {},
   "outputs": [
    {
     "data": {
      "text/plain": [
       "emp_title\n",
       "Teacher                    4389\n",
       "Manager                    4250\n",
       "Registered Nurse           1856\n",
       "RN                         1846\n",
       "Supervisor                 1830\n",
       "                           ... \n",
       "Postman                       1\n",
       "McCarthy & Holthus, LLC       1\n",
       "jp flooring                   1\n",
       "Histology Technologist        1\n",
       "Gracon Services, Inc          1\n",
       "Name: count, Length: 173105, dtype: int64"
      ]
     },
     "execution_count": 41,
     "metadata": {},
     "output_type": "execute_result"
    }
   ],
   "source": [
    "df['emp_title'].value_counts()"
   ]
  },
  {
   "cell_type": "markdown",
   "id": "1898c111",
   "metadata": {},
   "source": [
    "### Remove features\n",
    "\n",
    "Based on analysis of non-numeric columns remove:\n",
    "-  emp_title - too many different values and there are many missing values\n",
    "-  grade - sub_grade provides more granular data\n",
    "-  title - appears to be a repeat of purpose\n",
    "-  initial_list_status - does not vary significantly in relation to loan status\n",
    "-  emp_length - does not vary significantly in relation to loan status\n",
    "-  issue_d - data leak - cannot know if issue before data collected for loan"
   ]
  },
  {
   "cell_type": "code",
   "execution_count": 42,
   "id": "168fd6cd",
   "metadata": {},
   "outputs": [],
   "source": [
    "df = df.drop(['issue_d','emp_title','grade', 'title', 'initial_list_status', 'emp_length'], axis = 1)"
   ]
  },
  {
   "cell_type": "code",
   "execution_count": 43,
   "id": "ec272d00",
   "metadata": {},
   "outputs": [
    {
     "name": "stdout",
     "output_type": "stream",
     "text": [
      "<class 'pandas.core.frame.DataFrame'>\n",
      "RangeIndex: 396030 entries, 0 to 396029\n",
      "Data columns (total 8 columns):\n",
      " #   Column               Non-Null Count   Dtype \n",
      "---  ------               --------------   ----- \n",
      " 0   term                 396030 non-null  object\n",
      " 1   sub_grade            396030 non-null  object\n",
      " 2   home_ownership       396030 non-null  object\n",
      " 3   verification_status  396030 non-null  object\n",
      " 4   purpose              396030 non-null  object\n",
      " 5   earliest_cr_line     396030 non-null  object\n",
      " 6   application_type     396030 non-null  object\n",
      " 7   address              396030 non-null  object\n",
      "dtypes: object(8)\n",
      "memory usage: 24.2+ MB\n"
     ]
    }
   ],
   "source": [
    "df.select_dtypes(exclude='number').drop('loan_status', axis =1).info()"
   ]
  },
  {
   "cell_type": "code",
   "execution_count": 44,
   "id": "d15a8d61",
   "metadata": {},
   "outputs": [],
   "source": [
    "#change term tointeger to reduce one-hot encoding\n",
    "df['term'] = df['term'].str[:3].astype(int)"
   ]
  },
  {
   "cell_type": "code",
   "execution_count": 45,
   "id": "034e55f9",
   "metadata": {},
   "outputs": [
    {
     "data": {
      "text/plain": [
       "0         36\n",
       "1         36\n",
       "2         36\n",
       "3         36\n",
       "4         60\n",
       "          ..\n",
       "396025    60\n",
       "396026    36\n",
       "396027    36\n",
       "396028    60\n",
       "396029    36\n",
       "Name: term, Length: 396030, dtype: int32"
      ]
     },
     "execution_count": 45,
     "metadata": {},
     "output_type": "execute_result"
    }
   ],
   "source": [
    "df['term']"
   ]
  },
  {
   "cell_type": "code",
   "execution_count": 46,
   "id": "b0a8cfa8",
   "metadata": {},
   "outputs": [
    {
     "name": "stdout",
     "output_type": "stream",
     "text": [
      "<class 'pandas.core.frame.DataFrame'>\n",
      "RangeIndex: 396030 entries, 0 to 396029\n",
      "Data columns (total 22 columns):\n",
      " #   Column                Non-Null Count   Dtype  \n",
      "---  ------                --------------   -----  \n",
      " 0   loan_amnt             396030 non-null  float64\n",
      " 1   term                  396030 non-null  int32  \n",
      " 2   int_rate              396030 non-null  float64\n",
      " 3   installment           396030 non-null  float64\n",
      " 4   sub_grade             396030 non-null  object \n",
      " 5   home_ownership        396030 non-null  object \n",
      " 6   annual_inc            396030 non-null  float64\n",
      " 7   verification_status   396030 non-null  object \n",
      " 8   loan_status           396030 non-null  object \n",
      " 9   purpose               396030 non-null  object \n",
      " 10  dti                   396030 non-null  float64\n",
      " 11  earliest_cr_line      396030 non-null  object \n",
      " 12  open_acc              396030 non-null  float64\n",
      " 13  pub_rec               396030 non-null  float64\n",
      " 14  revol_bal             396030 non-null  float64\n",
      " 15  revol_util            395754 non-null  float64\n",
      " 16  total_acc             396030 non-null  float64\n",
      " 17  application_type      396030 non-null  object \n",
      " 18  mort_acc              358235 non-null  float64\n",
      " 19  pub_rec_bankruptcies  395495 non-null  float64\n",
      " 20  address               396030 non-null  object \n",
      " 21  status_numeric        396030 non-null  int64  \n",
      "dtypes: float64(12), int32(1), int64(1), object(8)\n",
      "memory usage: 65.0+ MB\n"
     ]
    }
   ],
   "source": [
    "df.info()"
   ]
  },
  {
   "cell_type": "markdown",
   "id": "5063c403",
   "metadata": {},
   "source": [
    "### investigate features that contain data that may be useful - address and dates"
   ]
  },
  {
   "cell_type": "code",
   "execution_count": 47,
   "id": "59ebbae0",
   "metadata": {},
   "outputs": [
    {
     "data": {
      "text/plain": [
       "earliest_cr_yr\n",
       "2000    29366\n",
       "2001    29083\n",
       "1999    26491\n",
       "2002    25901\n",
       "2003    23657\n",
       "        ...  \n",
       "1951        3\n",
       "1950        3\n",
       "1953        2\n",
       "1944        1\n",
       "1948        1\n",
       "Name: count, Length: 65, dtype: int64"
      ]
     },
     "execution_count": 47,
     "metadata": {},
     "output_type": "execute_result"
    }
   ],
   "source": [
    "df['earliest_cr_yr'] = df['earliest_cr_line'].str[-4:].astype(int)\n",
    "df['earliest_cr_yr'].value_counts()"
   ]
  },
  {
   "cell_type": "code",
   "execution_count": 48,
   "id": "debcee16",
   "metadata": {},
   "outputs": [
    {
     "data": {
      "image/png": "[encoded data removed]",
      "text/plain": [
       "<Figure size 640x480 with 1 Axes>"
      ]
     },
     "metadata": {},
     "output_type": "display_data"
    }
   ],
   "source": [
    "sns.countplot(data = df, x = 'earliest_cr_yr', hue = 'loan_status')\n",
    "plt.xticks(rotation = 90);"
   ]
  },
  {
   "cell_type": "code",
   "execution_count": 49,
   "id": "af427508",
   "metadata": {},
   "outputs": [
    {
     "data": {
      "text/html": [
       "<div>\n",
       "<style scoped>\n",
       "    .dataframe tbody tr th:only-of-type {\n",
       "        vertical-align: middle;\n",
       "    }\n",
       "\n",
       "    .dataframe tbody tr th {\n",
       "        vertical-align: top;\n",
       "    }\n",
       "\n",
       "    .dataframe thead th {\n",
       "        text-align: right;\n",
       "    }\n",
       "</style>\n",
       "<table border=\"1\" class=\"dataframe\">\n",
       "  <thead>\n",
       "    <tr style=\"text-align: right;\">\n",
       "      <th></th>\n",
       "      <th>0</th>\n",
       "    </tr>\n",
       "    <tr>\n",
       "      <th>earliest_cr_yr</th>\n",
       "      <th></th>\n",
       "    </tr>\n",
       "  </thead>\n",
       "  <tbody>\n",
       "    <tr>\n",
       "      <th>1994</th>\n",
       "      <td>0.179469</td>\n",
       "    </tr>\n",
       "    <tr>\n",
       "      <th>1995</th>\n",
       "      <td>0.182917</td>\n",
       "    </tr>\n",
       "    <tr>\n",
       "      <th>1996</th>\n",
       "      <td>0.186987</td>\n",
       "    </tr>\n",
       "    <tr>\n",
       "      <th>1997</th>\n",
       "      <td>0.188316</td>\n",
       "    </tr>\n",
       "    <tr>\n",
       "      <th>1998</th>\n",
       "      <td>0.186634</td>\n",
       "    </tr>\n",
       "    <tr>\n",
       "      <th>1999</th>\n",
       "      <td>0.190669</td>\n",
       "    </tr>\n",
       "    <tr>\n",
       "      <th>2000</th>\n",
       "      <td>0.192331</td>\n",
       "    </tr>\n",
       "    <tr>\n",
       "      <th>2001</th>\n",
       "      <td>0.200598</td>\n",
       "    </tr>\n",
       "    <tr>\n",
       "      <th>2002</th>\n",
       "      <td>0.202270</td>\n",
       "    </tr>\n",
       "    <tr>\n",
       "      <th>2003</th>\n",
       "      <td>0.206366</td>\n",
       "    </tr>\n",
       "    <tr>\n",
       "      <th>2004</th>\n",
       "      <td>0.217127</td>\n",
       "    </tr>\n",
       "    <tr>\n",
       "      <th>2005</th>\n",
       "      <td>0.215332</td>\n",
       "    </tr>\n",
       "    <tr>\n",
       "      <th>2006</th>\n",
       "      <td>0.224618</td>\n",
       "    </tr>\n",
       "    <tr>\n",
       "      <th>2007</th>\n",
       "      <td>0.231238</td>\n",
       "    </tr>\n",
       "    <tr>\n",
       "      <th>2008</th>\n",
       "      <td>0.239927</td>\n",
       "    </tr>\n",
       "    <tr>\n",
       "      <th>2009</th>\n",
       "      <td>0.263810</td>\n",
       "    </tr>\n",
       "    <tr>\n",
       "      <th>2010</th>\n",
       "      <td>0.272814</td>\n",
       "    </tr>\n",
       "    <tr>\n",
       "      <th>2011</th>\n",
       "      <td>0.270511</td>\n",
       "    </tr>\n",
       "    <tr>\n",
       "      <th>2012</th>\n",
       "      <td>0.231353</td>\n",
       "    </tr>\n",
       "    <tr>\n",
       "      <th>2013</th>\n",
       "      <td>0.060606</td>\n",
       "    </tr>\n",
       "  </tbody>\n",
       "</table>\n",
       "</div>"
      ],
      "text/plain": [
       "                       0\n",
       "earliest_cr_yr          \n",
       "1994            0.179469\n",
       "1995            0.182917\n",
       "1996            0.186987\n",
       "1997            0.188316\n",
       "1998            0.186634\n",
       "1999            0.190669\n",
       "2000            0.192331\n",
       "2001            0.200598\n",
       "2002            0.202270\n",
       "2003            0.206366\n",
       "2004            0.217127\n",
       "2005            0.215332\n",
       "2006            0.224618\n",
       "2007            0.231238\n",
       "2008            0.239927\n",
       "2009            0.263810\n",
       "2010            0.272814\n",
       "2011            0.270511\n",
       "2012            0.231353\n",
       "2013            0.060606"
      ]
     },
     "execution_count": 49,
     "metadata": {},
     "output_type": "execute_result"
    }
   ],
   "source": [
    "grouped = df.groupby(['earliest_cr_yr', 'loan_status']).size().unstack(fill_value=0)\n",
    "pd.DataFrame(grouped['Charged Off'] / grouped.sum(axis=1)).tail(20)"
   ]
  },
  {
   "cell_type": "code",
   "execution_count": 50,
   "id": "ee8d8fd4",
   "metadata": {},
   "outputs": [
    {
     "data": {
      "text/plain": [
       "0.12717153978492962"
      ]
     },
     "execution_count": 50,
     "metadata": {},
     "output_type": "execute_result"
    }
   ],
   "source": [
    "np.std(grouped['Charged Off'] / grouped.sum(axis=1))"
   ]
  },
  {
   "cell_type": "code",
   "execution_count": 51,
   "id": "9ff0a8ad",
   "metadata": {},
   "outputs": [
    {
     "data": {
      "text/plain": [
       "zipcodes\n",
       " 70466    56985\n",
       " 30723    56546\n",
       " 22690    56527\n",
       " 48052    55917\n",
       " 00813    45824\n",
       " 29597    45471\n",
       " 05113    45402\n",
       " 11650    11226\n",
       " 93700    11151\n",
       " 86630    10981\n",
       "Name: count, dtype: int64"
      ]
     },
     "execution_count": 51,
     "metadata": {},
     "output_type": "execute_result"
    }
   ],
   "source": [
    "df['zipcodes'] = df['address'].str[-6:]\n",
    "df['zipcodes'].value_counts()"
   ]
  },
  {
   "cell_type": "code",
   "execution_count": 52,
   "id": "f104c98d",
   "metadata": {},
   "outputs": [
    {
     "data": {
      "image/png": "[encoded data removed]",
      "text/plain": [
       "<Figure size 640x480 with 1 Axes>"
      ]
     },
     "metadata": {},
     "output_type": "display_data"
    }
   ],
   "source": [
    "sns.countplot(data = df, x = 'zipcodes', hue = 'loan_status')\n",
    "plt.xticks(rotation = 90);"
   ]
  },
  {
   "cell_type": "code",
   "execution_count": 53,
   "id": "526b660f",
   "metadata": {},
   "outputs": [
    {
     "data": {
      "text/plain": [
       "zipcodes\n",
       " 00813    0.000000\n",
       " 05113    0.000000\n",
       " 11650    1.000000\n",
       " 22690    0.193784\n",
       " 29597    0.000000\n",
       " 30723    0.194903\n",
       " 48052    0.200154\n",
       " 70466    0.195630\n",
       " 86630    1.000000\n",
       " 93700    1.000000\n",
       "dtype: float64"
      ]
     },
     "execution_count": 53,
     "metadata": {},
     "output_type": "execute_result"
    }
   ],
   "source": [
    "grouped = df.groupby(['zipcodes', 'loan_status']).size().unstack(fill_value=0)\n",
    "grouped['Charged Off'] / grouped.sum(axis=1)"
   ]
  },
  {
   "cell_type": "markdown",
   "id": "b7dd2c97",
   "metadata": {},
   "source": [
    "## Feature engineering"
   ]
  },
  {
   "cell_type": "markdown",
   "id": "43145405",
   "metadata": {},
   "source": [
    "### Remove features\n",
    "\n",
    "Based on analysis of address and date features \n",
    "Keep as they vary in relation to loan status:\n",
    "-  earliest_cr_yr\n",
    "-  zipcodes\n",
    "\n",
    "Remove:\n",
    "-  earliest_cr_line - replaced by earliest_cr_yr\n",
    "-  address - replaced by zipcodes"
   ]
  },
  {
   "cell_type": "code",
   "execution_count": 54,
   "id": "c0a11956",
   "metadata": {},
   "outputs": [],
   "source": [
    "df.drop(['earliest_cr_line', 'address'], axis =1, inplace = True)"
   ]
  },
  {
   "cell_type": "code",
   "execution_count": 55,
   "id": "ebbf0bae",
   "metadata": {},
   "outputs": [
    {
     "name": "stdout",
     "output_type": "stream",
     "text": [
      "<class 'pandas.core.frame.DataFrame'>\n",
      "RangeIndex: 396030 entries, 0 to 396029\n",
      "Data columns (total 22 columns):\n",
      " #   Column                Non-Null Count   Dtype  \n",
      "---  ------                --------------   -----  \n",
      " 0   loan_amnt             396030 non-null  float64\n",
      " 1   term                  396030 non-null  int32  \n",
      " 2   int_rate              396030 non-null  float64\n",
      " 3   installment           396030 non-null  float64\n",
      " 4   sub_grade             396030 non-null  object \n",
      " 5   home_ownership        396030 non-null  object \n",
      " 6   annual_inc            396030 non-null  float64\n",
      " 7   verification_status   396030 non-null  object \n",
      " 8   loan_status           396030 non-null  object \n",
      " 9   purpose               396030 non-null  object \n",
      " 10  dti                   396030 non-null  float64\n",
      " 11  open_acc              396030 non-null  float64\n",
      " 12  pub_rec               396030 non-null  float64\n",
      " 13  revol_bal             396030 non-null  float64\n",
      " 14  revol_util            395754 non-null  float64\n",
      " 15  total_acc             396030 non-null  float64\n",
      " 16  application_type      396030 non-null  object \n",
      " 17  mort_acc              358235 non-null  float64\n",
      " 18  pub_rec_bankruptcies  395495 non-null  float64\n",
      " 19  status_numeric        396030 non-null  int64  \n",
      " 20  earliest_cr_yr        396030 non-null  int32  \n",
      " 21  zipcodes              396030 non-null  object \n",
      "dtypes: float64(12), int32(2), int64(1), object(7)\n",
      "memory usage: 63.5+ MB\n"
     ]
    }
   ],
   "source": [
    "df.info()"
   ]
  },
  {
   "cell_type": "code",
   "execution_count": 56,
   "id": "6cbfefb3",
   "metadata": {},
   "outputs": [
    {
     "data": {
      "text/html": [
       "<div>\n",
       "<style scoped>\n",
       "    .dataframe tbody tr th:only-of-type {\n",
       "        vertical-align: middle;\n",
       "    }\n",
       "\n",
       "    .dataframe tbody tr th {\n",
       "        vertical-align: top;\n",
       "    }\n",
       "\n",
       "    .dataframe thead th {\n",
       "        text-align: right;\n",
       "    }\n",
       "</style>\n",
       "<table border=\"1\" class=\"dataframe\">\n",
       "  <thead>\n",
       "    <tr style=\"text-align: right;\">\n",
       "      <th></th>\n",
       "      <th>stdev</th>\n",
       "    </tr>\n",
       "  </thead>\n",
       "  <tbody>\n",
       "    <tr>\n",
       "      <th>zipcodes</th>\n",
       "      <td>0.414928</td>\n",
       "    </tr>\n",
       "    <tr>\n",
       "      <th>sub_grade</th>\n",
       "      <td>0.149697</td>\n",
       "    </tr>\n",
       "    <tr>\n",
       "      <th>application_type</th>\n",
       "      <td>0.096178</td>\n",
       "    </tr>\n",
       "    <tr>\n",
       "      <th>home_ownership</th>\n",
       "      <td>0.078446</td>\n",
       "    </tr>\n",
       "    <tr>\n",
       "      <th>purpose</th>\n",
       "      <td>0.043411</td>\n",
       "    </tr>\n",
       "    <tr>\n",
       "      <th>verification_status</th>\n",
       "      <td>0.034406</td>\n",
       "    </tr>\n",
       "  </tbody>\n",
       "</table>\n",
       "</div>"
      ],
      "text/plain": [
       "                        stdev\n",
       "zipcodes             0.414928\n",
       "sub_grade            0.149697\n",
       "application_type     0.096178\n",
       "home_ownership       0.078446\n",
       "purpose              0.043411\n",
       "verification_status  0.034406"
      ]
     },
     "execution_count": 56,
     "metadata": {},
     "output_type": "execute_result"
    }
   ],
   "source": [
    "# Recheck variation in non-numeric columns in relation to loan_status\n",
    "non_numeric_columns = df.select_dtypes(include=['object']).columns.difference(['loan_status'])\n",
    "\n",
    "def chargedoff_pc(column):\n",
    "    grouped = df.groupby([column, 'loan_status']).size().unstack(fill_value=0)\n",
    "    return np.std(grouped['Charged Off'] / grouped.sum(axis=1))\n",
    "\n",
    "result = {col: chargedoff_pc(col) for col in non_numeric_columns}\n",
    "\n",
    "df_chargedoff_pc = pd.DataFrame(result.values(), index = result.keys(), columns = ['stdev'])\n",
    "df_chargedoff_pc.sort_values('stdev', ascending = False)"
   ]
  },
  {
   "cell_type": "markdown",
   "id": "423ea704",
   "metadata": {},
   "source": [
    "### handle remaining missing values"
   ]
  },
  {
   "cell_type": "code",
   "execution_count": 57,
   "id": "87c59e70",
   "metadata": {},
   "outputs": [],
   "source": [
    "#Remove mortgage account as too many missing values \n",
    "# and public rec bankruptcies as does not vary significantly with loan status\n",
    "#df.drop(['mort_acc','pub_rec_bankruptcies'],axis=1, inplace = True)"
   ]
  },
  {
   "cell_type": "code",
   "execution_count": 58,
   "id": "fd1ea928",
   "metadata": {},
   "outputs": [
    {
     "name": "stdout",
     "output_type": "stream",
     "text": [
      "<class 'pandas.core.frame.DataFrame'>\n",
      "RangeIndex: 396030 entries, 0 to 396029\n",
      "Data columns (total 22 columns):\n",
      " #   Column                Non-Null Count   Dtype  \n",
      "---  ------                --------------   -----  \n",
      " 0   loan_amnt             396030 non-null  float64\n",
      " 1   term                  396030 non-null  int32  \n",
      " 2   int_rate              396030 non-null  float64\n",
      " 3   installment           396030 non-null  float64\n",
      " 4   sub_grade             396030 non-null  object \n",
      " 5   home_ownership        396030 non-null  object \n",
      " 6   annual_inc            396030 non-null  float64\n",
      " 7   verification_status   396030 non-null  object \n",
      " 8   loan_status           396030 non-null  object \n",
      " 9   purpose               396030 non-null  object \n",
      " 10  dti                   396030 non-null  float64\n",
      " 11  open_acc              396030 non-null  float64\n",
      " 12  pub_rec               396030 non-null  float64\n",
      " 13  revol_bal             396030 non-null  float64\n",
      " 14  revol_util            395754 non-null  float64\n",
      " 15  total_acc             396030 non-null  float64\n",
      " 16  application_type      396030 non-null  object \n",
      " 17  mort_acc              358235 non-null  float64\n",
      " 18  pub_rec_bankruptcies  395495 non-null  float64\n",
      " 19  status_numeric        396030 non-null  int64  \n",
      " 20  earliest_cr_yr        396030 non-null  int32  \n",
      " 21  zipcodes              396030 non-null  object \n",
      "dtypes: float64(12), int32(2), int64(1), object(7)\n",
      "memory usage: 63.5+ MB\n"
     ]
    }
   ],
   "source": [
    "df.info()"
   ]
  },
  {
   "cell_type": "code",
   "execution_count": 59,
   "id": "45985eec",
   "metadata": {},
   "outputs": [
    {
     "data": {
      "text/plain": [
       "loan_amnt                   0\n",
       "term                        0\n",
       "int_rate                    0\n",
       "installment                 0\n",
       "sub_grade                   0\n",
       "home_ownership              0\n",
       "annual_inc                  0\n",
       "verification_status         0\n",
       "loan_status                 0\n",
       "purpose                     0\n",
       "dti                         0\n",
       "open_acc                    0\n",
       "pub_rec                     0\n",
       "revol_bal                   0\n",
       "revol_util                276\n",
       "total_acc                   0\n",
       "application_type            0\n",
       "mort_acc                37795\n",
       "pub_rec_bankruptcies      535\n",
       "status_numeric              0\n",
       "earliest_cr_yr              0\n",
       "zipcodes                    0\n",
       "dtype: int64"
      ]
     },
     "execution_count": 59,
     "metadata": {},
     "output_type": "execute_result"
    }
   ],
   "source": [
    "df.isna().sum()#/len(df)"
   ]
  },
  {
   "cell_type": "code",
   "execution_count": 60,
   "id": "9b7e34b5",
   "metadata": {},
   "outputs": [
    {
     "data": {
      "text/plain": [
       "loan_status  mort_acc\n",
       "Charged Off  False        72123\n",
       "             True          5550\n",
       "Fully Paid   False       286112\n",
       "             True         32245\n",
       "dtype: int64"
      ]
     },
     "execution_count": 60,
     "metadata": {},
     "output_type": "execute_result"
    }
   ],
   "source": [
    "#replace 37795 missing values for mort_acc with means for each loan_status\n",
    "df.groupby(['loan_status',df['mort_acc'].isna()]).size()"
   ]
  },
  {
   "cell_type": "code",
   "execution_count": 61,
   "id": "171ac5e2",
   "metadata": {},
   "outputs": [
    {
     "data": {
      "text/plain": [
       "loan_status\n",
       "Charged Off    1.501213\n",
       "Fully Paid     1.892836\n",
       "Name: mort_acc, dtype: float64"
      ]
     },
     "execution_count": 61,
     "metadata": {},
     "output_type": "execute_result"
    }
   ],
   "source": [
    "df.groupby('loan_status')['mort_acc'].mean()"
   ]
  },
  {
   "cell_type": "code",
   "execution_count": 62,
   "id": "d9de9928",
   "metadata": {},
   "outputs": [],
   "source": [
    "df['mort_acc'] = df['mort_acc'].fillna(df.groupby('loan_status')['mort_acc'].transform('mean'))"
   ]
  },
  {
   "cell_type": "code",
   "execution_count": 63,
   "id": "62676cfe",
   "metadata": {},
   "outputs": [
    {
     "data": {
      "text/plain": [
       "loan_status  mort_acc\n",
       "Charged Off  False        77673\n",
       "Fully Paid   False       318357\n",
       "dtype: int64"
      ]
     },
     "execution_count": 63,
     "metadata": {},
     "output_type": "execute_result"
    }
   ],
   "source": [
    "df.groupby(['loan_status',df['mort_acc'].isna()]).size()"
   ]
  },
  {
   "cell_type": "code",
   "execution_count": 64,
   "id": "ce9d93ba",
   "metadata": {
    "scrolled": true
   },
   "outputs": [],
   "source": [
    "# drop the remaining rows with missing values - revol_utl and pub_rec_bankruptcies has less than 0.5% missing values \n",
    "df = df.dropna()"
   ]
  },
  {
   "cell_type": "code",
   "execution_count": 65,
   "id": "841f4d62",
   "metadata": {},
   "outputs": [
    {
     "data": {
      "text/plain": [
       "loan_amnt               0.0\n",
       "term                    0.0\n",
       "int_rate                0.0\n",
       "installment             0.0\n",
       "sub_grade               0.0\n",
       "home_ownership          0.0\n",
       "annual_inc              0.0\n",
       "verification_status     0.0\n",
       "loan_status             0.0\n",
       "purpose                 0.0\n",
       "dti                     0.0\n",
       "open_acc                0.0\n",
       "pub_rec                 0.0\n",
       "revol_bal               0.0\n",
       "revol_util              0.0\n",
       "total_acc               0.0\n",
       "application_type        0.0\n",
       "mort_acc                0.0\n",
       "pub_rec_bankruptcies    0.0\n",
       "status_numeric          0.0\n",
       "earliest_cr_yr          0.0\n",
       "zipcodes                0.0\n",
       "dtype: float64"
      ]
     },
     "execution_count": 65,
     "metadata": {},
     "output_type": "execute_result"
    }
   ],
   "source": [
    "df.isna().sum()/len(df)"
   ]
  },
  {
   "cell_type": "markdown",
   "id": "459c930a",
   "metadata": {},
   "source": [
    "### check against project solutions andmake changes to data accordingly"
   ]
  },
  {
   "cell_type": "code",
   "execution_count": 66,
   "id": "361fd9ca",
   "metadata": {},
   "outputs": [
    {
     "name": "stdout",
     "output_type": "stream",
     "text": [
      "<class 'pandas.core.frame.DataFrame'>\n",
      "Index: 395219 entries, 0 to 396029\n",
      "Data columns (total 22 columns):\n",
      " #   Column                Non-Null Count   Dtype  \n",
      "---  ------                --------------   -----  \n",
      " 0   loan_amnt             395219 non-null  float64\n",
      " 1   term                  395219 non-null  int32  \n",
      " 2   int_rate              395219 non-null  float64\n",
      " 3   installment           395219 non-null  float64\n",
      " 4   sub_grade             395219 non-null  object \n",
      " 5   home_ownership        395219 non-null  object \n",
      " 6   annual_inc            395219 non-null  float64\n",
      " 7   verification_status   395219 non-null  object \n",
      " 8   loan_status           395219 non-null  object \n",
      " 9   purpose               395219 non-null  object \n",
      " 10  dti                   395219 non-null  float64\n",
      " 11  open_acc              395219 non-null  float64\n",
      " 12  pub_rec               395219 non-null  float64\n",
      " 13  revol_bal             395219 non-null  float64\n",
      " 14  revol_util            395219 non-null  float64\n",
      " 15  total_acc             395219 non-null  float64\n",
      " 16  application_type      395219 non-null  object \n",
      " 17  mort_acc              395219 non-null  float64\n",
      " 18  pub_rec_bankruptcies  395219 non-null  float64\n",
      " 19  status_numeric        395219 non-null  int64  \n",
      " 20  earliest_cr_yr        395219 non-null  int32  \n",
      " 21  zipcodes              395219 non-null  object \n",
      "dtypes: float64(12), int32(2), int64(1), object(7)\n",
      "memory usage: 66.3+ MB\n"
     ]
    }
   ],
   "source": [
    "df.info()"
   ]
  },
  {
   "cell_type": "markdown",
   "id": "d6fb6e88",
   "metadata": {},
   "source": [
    "home_ownership "
   ]
  },
  {
   "cell_type": "code",
   "execution_count": 67,
   "id": "ea72173e",
   "metadata": {},
   "outputs": [
    {
     "data": {
      "text/plain": [
       "home_ownership\n",
       "MORTGAGE    198022\n",
       "RENT        159395\n",
       "OWN          37660\n",
       "OTHER          110\n",
       "NONE            29\n",
       "ANY              3\n",
       "Name: count, dtype: int64"
      ]
     },
     "execution_count": 67,
     "metadata": {},
     "output_type": "execute_result"
    }
   ],
   "source": [
    "df['home_ownership'].value_counts()"
   ]
  },
  {
   "cell_type": "code",
   "execution_count": 68,
   "id": "6774c534",
   "metadata": {},
   "outputs": [],
   "source": [
    "df['home_ownership']=df['home_ownership'].replace(['NONE', 'ANY'], 'OTHER')"
   ]
  },
  {
   "cell_type": "code",
   "execution_count": 69,
   "id": "5552a537",
   "metadata": {},
   "outputs": [
    {
     "data": {
      "text/plain": [
       "home_ownership\n",
       "MORTGAGE    198022\n",
       "RENT        159395\n",
       "OWN          37660\n",
       "OTHER          142\n",
       "Name: count, dtype: int64"
      ]
     },
     "execution_count": 69,
     "metadata": {},
     "output_type": "execute_result"
    }
   ],
   "source": [
    "df['home_ownership'].value_counts()"
   ]
  },
  {
   "cell_type": "code",
   "execution_count": 70,
   "id": "f7ef6a0c",
   "metadata": {},
   "outputs": [
    {
     "name": "stdout",
     "output_type": "stream",
     "text": [
      "<class 'pandas.core.frame.DataFrame'>\n",
      "Index: 395219 entries, 0 to 396029\n",
      "Data columns (total 22 columns):\n",
      " #   Column                Non-Null Count   Dtype  \n",
      "---  ------                --------------   -----  \n",
      " 0   loan_amnt             395219 non-null  float64\n",
      " 1   term                  395219 non-null  int32  \n",
      " 2   int_rate              395219 non-null  float64\n",
      " 3   installment           395219 non-null  float64\n",
      " 4   sub_grade             395219 non-null  object \n",
      " 5   home_ownership        395219 non-null  object \n",
      " 6   annual_inc            395219 non-null  float64\n",
      " 7   verification_status   395219 non-null  object \n",
      " 8   loan_status           395219 non-null  object \n",
      " 9   purpose               395219 non-null  object \n",
      " 10  dti                   395219 non-null  float64\n",
      " 11  open_acc              395219 non-null  float64\n",
      " 12  pub_rec               395219 non-null  float64\n",
      " 13  revol_bal             395219 non-null  float64\n",
      " 14  revol_util            395219 non-null  float64\n",
      " 15  total_acc             395219 non-null  float64\n",
      " 16  application_type      395219 non-null  object \n",
      " 17  mort_acc              395219 non-null  float64\n",
      " 18  pub_rec_bankruptcies  395219 non-null  float64\n",
      " 19  status_numeric        395219 non-null  int64  \n",
      " 20  earliest_cr_yr        395219 non-null  int32  \n",
      " 21  zipcodes              395219 non-null  object \n",
      "dtypes: float64(12), int32(2), int64(1), object(7)\n",
      "memory usage: 66.3+ MB\n"
     ]
    }
   ],
   "source": [
    "df.info()"
   ]
  },
  {
   "cell_type": "markdown",
   "id": "703ea6a0",
   "metadata": {},
   "source": [
    "project solutions encode sub-grade, verification status, application type, initial list status, purpose, home ownership, zipcodes. "
   ]
  },
  {
   "cell_type": "markdown",
   "id": "158a67de",
   "metadata": {},
   "source": [
    "## One-hot-encode categorical columns"
   ]
  },
  {
   "cell_type": "code",
   "execution_count": 71,
   "id": "0563601f",
   "metadata": {},
   "outputs": [
    {
     "data": {
      "text/plain": [
       "Index(['application_type', 'home_ownership', 'purpose', 'sub_grade',\n",
       "       'verification_status', 'zipcodes'],\n",
       "      dtype='object')"
      ]
     },
     "execution_count": 71,
     "metadata": {},
     "output_type": "execute_result"
    }
   ],
   "source": [
    "non_numeric_columns = df.select_dtypes(include=['object']).columns.difference(['loan_status'])\n",
    "non_numeric_columns"
   ]
  },
  {
   "cell_type": "code",
   "execution_count": 72,
   "id": "17af116d",
   "metadata": {},
   "outputs": [],
   "source": [
    "df_encoded = pd.get_dummies(df, columns=non_numeric_columns, dtype=int, drop_first=True)"
   ]
  },
  {
   "cell_type": "code",
   "execution_count": 73,
   "id": "05b166e6",
   "metadata": {},
   "outputs": [
    {
     "name": "stdout",
     "output_type": "stream",
     "text": [
      "<class 'pandas.core.frame.DataFrame'>\n",
      "Index: 395219 entries, 0 to 396029\n",
      "Data columns (total 79 columns):\n",
      " #   Column                               Non-Null Count   Dtype  \n",
      "---  ------                               --------------   -----  \n",
      " 0   loan_amnt                            395219 non-null  float64\n",
      " 1   term                                 395219 non-null  int32  \n",
      " 2   int_rate                             395219 non-null  float64\n",
      " 3   installment                          395219 non-null  float64\n",
      " 4   annual_inc                           395219 non-null  float64\n",
      " 5   loan_status                          395219 non-null  object \n",
      " 6   dti                                  395219 non-null  float64\n",
      " 7   open_acc                             395219 non-null  float64\n",
      " 8   pub_rec                              395219 non-null  float64\n",
      " 9   revol_bal                            395219 non-null  float64\n",
      " 10  revol_util                           395219 non-null  float64\n",
      " 11  total_acc                            395219 non-null  float64\n",
      " 12  mort_acc                             395219 non-null  float64\n",
      " 13  pub_rec_bankruptcies                 395219 non-null  float64\n",
      " 14  status_numeric                       395219 non-null  int64  \n",
      " 15  earliest_cr_yr                       395219 non-null  int32  \n",
      " 16  application_type_INDIVIDUAL          395219 non-null  int32  \n",
      " 17  application_type_JOINT               395219 non-null  int32  \n",
      " 18  home_ownership_OTHER                 395219 non-null  int32  \n",
      " 19  home_ownership_OWN                   395219 non-null  int32  \n",
      " 20  home_ownership_RENT                  395219 non-null  int32  \n",
      " 21  purpose_credit_card                  395219 non-null  int32  \n",
      " 22  purpose_debt_consolidation           395219 non-null  int32  \n",
      " 23  purpose_educational                  395219 non-null  int32  \n",
      " 24  purpose_home_improvement             395219 non-null  int32  \n",
      " 25  purpose_house                        395219 non-null  int32  \n",
      " 26  purpose_major_purchase               395219 non-null  int32  \n",
      " 27  purpose_medical                      395219 non-null  int32  \n",
      " 28  purpose_moving                       395219 non-null  int32  \n",
      " 29  purpose_other                        395219 non-null  int32  \n",
      " 30  purpose_renewable_energy             395219 non-null  int32  \n",
      " 31  purpose_small_business               395219 non-null  int32  \n",
      " 32  purpose_vacation                     395219 non-null  int32  \n",
      " 33  purpose_wedding                      395219 non-null  int32  \n",
      " 34  sub_grade_A2                         395219 non-null  int32  \n",
      " 35  sub_grade_A3                         395219 non-null  int32  \n",
      " 36  sub_grade_A4                         395219 non-null  int32  \n",
      " 37  sub_grade_A5                         395219 non-null  int32  \n",
      " 38  sub_grade_B1                         395219 non-null  int32  \n",
      " 39  sub_grade_B2                         395219 non-null  int32  \n",
      " 40  sub_grade_B3                         395219 non-null  int32  \n",
      " 41  sub_grade_B4                         395219 non-null  int32  \n",
      " 42  sub_grade_B5                         395219 non-null  int32  \n",
      " 43  sub_grade_C1                         395219 non-null  int32  \n",
      " 44  sub_grade_C2                         395219 non-null  int32  \n",
      " 45  sub_grade_C3                         395219 non-null  int32  \n",
      " 46  sub_grade_C4                         395219 non-null  int32  \n",
      " 47  sub_grade_C5                         395219 non-null  int32  \n",
      " 48  sub_grade_D1                         395219 non-null  int32  \n",
      " 49  sub_grade_D2                         395219 non-null  int32  \n",
      " 50  sub_grade_D3                         395219 non-null  int32  \n",
      " 51  sub_grade_D4                         395219 non-null  int32  \n",
      " 52  sub_grade_D5                         395219 non-null  int32  \n",
      " 53  sub_grade_E1                         395219 non-null  int32  \n",
      " 54  sub_grade_E2                         395219 non-null  int32  \n",
      " 55  sub_grade_E3                         395219 non-null  int32  \n",
      " 56  sub_grade_E4                         395219 non-null  int32  \n",
      " 57  sub_grade_E5                         395219 non-null  int32  \n",
      " 58  sub_grade_F1                         395219 non-null  int32  \n",
      " 59  sub_grade_F2                         395219 non-null  int32  \n",
      " 60  sub_grade_F3                         395219 non-null  int32  \n",
      " 61  sub_grade_F4                         395219 non-null  int32  \n",
      " 62  sub_grade_F5                         395219 non-null  int32  \n",
      " 63  sub_grade_G1                         395219 non-null  int32  \n",
      " 64  sub_grade_G2                         395219 non-null  int32  \n",
      " 65  sub_grade_G3                         395219 non-null  int32  \n",
      " 66  sub_grade_G4                         395219 non-null  int32  \n",
      " 67  sub_grade_G5                         395219 non-null  int32  \n",
      " 68  verification_status_Source Verified  395219 non-null  int32  \n",
      " 69  verification_status_Verified         395219 non-null  int32  \n",
      " 70  zipcodes_ 05113                      395219 non-null  int32  \n",
      " 71  zipcodes_ 11650                      395219 non-null  int32  \n",
      " 72  zipcodes_ 22690                      395219 non-null  int32  \n",
      " 73  zipcodes_ 29597                      395219 non-null  int32  \n",
      " 74  zipcodes_ 30723                      395219 non-null  int32  \n",
      " 75  zipcodes_ 48052                      395219 non-null  int32  \n",
      " 76  zipcodes_ 70466                      395219 non-null  int32  \n",
      " 77  zipcodes_ 86630                      395219 non-null  int32  \n",
      " 78  zipcodes_ 93700                      395219 non-null  int32  \n",
      "dtypes: float64(12), int32(65), int64(1), object(1)\n",
      "memory usage: 143.2+ MB\n"
     ]
    }
   ],
   "source": [
    "df_encoded.info()"
   ]
  },
  {
   "cell_type": "markdown",
   "id": "2745e8b8",
   "metadata": {},
   "source": [
    "Check correlation between new data and loan status"
   ]
  },
  {
   "cell_type": "code",
   "execution_count": 74,
   "id": "53dd0be1",
   "metadata": {},
   "outputs": [
    {
     "data": {
      "text/html": [
       "<div>\n",
       "<style scoped>\n",
       "    .dataframe tbody tr th:only-of-type {\n",
       "        vertical-align: middle;\n",
       "    }\n",
       "\n",
       "    .dataframe tbody tr th {\n",
       "        vertical-align: top;\n",
       "    }\n",
       "\n",
       "    .dataframe thead th {\n",
       "        text-align: right;\n",
       "    }\n",
       "</style>\n",
       "<table border=\"1\" class=\"dataframe\">\n",
       "  <thead>\n",
       "    <tr style=\"text-align: right;\">\n",
       "      <th></th>\n",
       "      <th>status_numeric</th>\n",
       "      <th>loan_status</th>\n",
       "    </tr>\n",
       "  </thead>\n",
       "  <tbody>\n",
       "    <tr>\n",
       "      <th>0</th>\n",
       "      <td>1</td>\n",
       "      <td>Fully Paid</td>\n",
       "    </tr>\n",
       "    <tr>\n",
       "      <th>1</th>\n",
       "      <td>1</td>\n",
       "      <td>Fully Paid</td>\n",
       "    </tr>\n",
       "    <tr>\n",
       "      <th>2</th>\n",
       "      <td>1</td>\n",
       "      <td>Fully Paid</td>\n",
       "    </tr>\n",
       "    <tr>\n",
       "      <th>3</th>\n",
       "      <td>1</td>\n",
       "      <td>Fully Paid</td>\n",
       "    </tr>\n",
       "    <tr>\n",
       "      <th>4</th>\n",
       "      <td>0</td>\n",
       "      <td>Charged Off</td>\n",
       "    </tr>\n",
       "    <tr>\n",
       "      <th>5</th>\n",
       "      <td>1</td>\n",
       "      <td>Fully Paid</td>\n",
       "    </tr>\n",
       "    <tr>\n",
       "      <th>6</th>\n",
       "      <td>1</td>\n",
       "      <td>Fully Paid</td>\n",
       "    </tr>\n",
       "    <tr>\n",
       "      <th>7</th>\n",
       "      <td>1</td>\n",
       "      <td>Fully Paid</td>\n",
       "    </tr>\n",
       "    <tr>\n",
       "      <th>8</th>\n",
       "      <td>1</td>\n",
       "      <td>Fully Paid</td>\n",
       "    </tr>\n",
       "    <tr>\n",
       "      <th>9</th>\n",
       "      <td>1</td>\n",
       "      <td>Fully Paid</td>\n",
       "    </tr>\n",
       "    <tr>\n",
       "      <th>10</th>\n",
       "      <td>1</td>\n",
       "      <td>Fully Paid</td>\n",
       "    </tr>\n",
       "    <tr>\n",
       "      <th>11</th>\n",
       "      <td>1</td>\n",
       "      <td>Fully Paid</td>\n",
       "    </tr>\n",
       "    <tr>\n",
       "      <th>12</th>\n",
       "      <td>1</td>\n",
       "      <td>Fully Paid</td>\n",
       "    </tr>\n",
       "    <tr>\n",
       "      <th>13</th>\n",
       "      <td>1</td>\n",
       "      <td>Fully Paid</td>\n",
       "    </tr>\n",
       "    <tr>\n",
       "      <th>14</th>\n",
       "      <td>1</td>\n",
       "      <td>Fully Paid</td>\n",
       "    </tr>\n",
       "    <tr>\n",
       "      <th>15</th>\n",
       "      <td>1</td>\n",
       "      <td>Fully Paid</td>\n",
       "    </tr>\n",
       "    <tr>\n",
       "      <th>16</th>\n",
       "      <td>1</td>\n",
       "      <td>Fully Paid</td>\n",
       "    </tr>\n",
       "    <tr>\n",
       "      <th>17</th>\n",
       "      <td>1</td>\n",
       "      <td>Fully Paid</td>\n",
       "    </tr>\n",
       "    <tr>\n",
       "      <th>18</th>\n",
       "      <td>1</td>\n",
       "      <td>Fully Paid</td>\n",
       "    </tr>\n",
       "    <tr>\n",
       "      <th>19</th>\n",
       "      <td>1</td>\n",
       "      <td>Fully Paid</td>\n",
       "    </tr>\n",
       "  </tbody>\n",
       "</table>\n",
       "</div>"
      ],
      "text/plain": [
       "    status_numeric  loan_status\n",
       "0                1   Fully Paid\n",
       "1                1   Fully Paid\n",
       "2                1   Fully Paid\n",
       "3                1   Fully Paid\n",
       "4                0  Charged Off\n",
       "5                1   Fully Paid\n",
       "6                1   Fully Paid\n",
       "7                1   Fully Paid\n",
       "8                1   Fully Paid\n",
       "9                1   Fully Paid\n",
       "10               1   Fully Paid\n",
       "11               1   Fully Paid\n",
       "12               1   Fully Paid\n",
       "13               1   Fully Paid\n",
       "14               1   Fully Paid\n",
       "15               1   Fully Paid\n",
       "16               1   Fully Paid\n",
       "17               1   Fully Paid\n",
       "18               1   Fully Paid\n",
       "19               1   Fully Paid"
      ]
     },
     "execution_count": 74,
     "metadata": {},
     "output_type": "execute_result"
    }
   ],
   "source": [
    "# change loan_status to numeric to check for any correlation\n",
    "ls_dict = {'Fully Paid': 1, 'Charged Off' : 0}\n",
    "df_encoded['status_numeric'] = df_encoded['loan_status'].map(ls_dict)\n",
    "df_encoded[['status_numeric', 'loan_status']].head(20)"
   ]
  },
  {
   "cell_type": "code",
   "execution_count": 75,
   "id": "765b92f5",
   "metadata": {},
   "outputs": [
    {
     "data": {
      "text/html": [
       "<div>\n",
       "<style scoped>\n",
       "    .dataframe tbody tr th:only-of-type {\n",
       "        vertical-align: middle;\n",
       "    }\n",
       "\n",
       "    .dataframe tbody tr th {\n",
       "        vertical-align: top;\n",
       "    }\n",
       "\n",
       "    .dataframe thead th {\n",
       "        text-align: right;\n",
       "    }\n",
       "</style>\n",
       "<table border=\"1\" class=\"dataframe\">\n",
       "  <thead>\n",
       "    <tr style=\"text-align: right;\">\n",
       "      <th></th>\n",
       "      <th>loan_amnt</th>\n",
       "      <th>term</th>\n",
       "      <th>int_rate</th>\n",
       "      <th>installment</th>\n",
       "      <th>sub_grade</th>\n",
       "      <th>home_ownership</th>\n",
       "      <th>annual_inc</th>\n",
       "      <th>verification_status</th>\n",
       "      <th>loan_status</th>\n",
       "      <th>purpose</th>\n",
       "      <th>...</th>\n",
       "      <th>pub_rec</th>\n",
       "      <th>revol_bal</th>\n",
       "      <th>revol_util</th>\n",
       "      <th>total_acc</th>\n",
       "      <th>application_type</th>\n",
       "      <th>mort_acc</th>\n",
       "      <th>pub_rec_bankruptcies</th>\n",
       "      <th>status_numeric</th>\n",
       "      <th>earliest_cr_yr</th>\n",
       "      <th>zipcodes</th>\n",
       "    </tr>\n",
       "  </thead>\n",
       "  <tbody>\n",
       "    <tr>\n",
       "      <th>0</th>\n",
       "      <td>10000.0</td>\n",
       "      <td>36</td>\n",
       "      <td>11.44</td>\n",
       "      <td>329.48</td>\n",
       "      <td>B4</td>\n",
       "      <td>RENT</td>\n",
       "      <td>117000.0</td>\n",
       "      <td>Not Verified</td>\n",
       "      <td>Fully Paid</td>\n",
       "      <td>vacation</td>\n",
       "      <td>...</td>\n",
       "      <td>0.0</td>\n",
       "      <td>36369.0</td>\n",
       "      <td>41.8</td>\n",
       "      <td>25.0</td>\n",
       "      <td>INDIVIDUAL</td>\n",
       "      <td>0.000000</td>\n",
       "      <td>0.0</td>\n",
       "      <td>1</td>\n",
       "      <td>1990</td>\n",
       "      <td>22690</td>\n",
       "    </tr>\n",
       "    <tr>\n",
       "      <th>1</th>\n",
       "      <td>8000.0</td>\n",
       "      <td>36</td>\n",
       "      <td>11.99</td>\n",
       "      <td>265.68</td>\n",
       "      <td>B5</td>\n",
       "      <td>MORTGAGE</td>\n",
       "      <td>65000.0</td>\n",
       "      <td>Not Verified</td>\n",
       "      <td>Fully Paid</td>\n",
       "      <td>debt_consolidation</td>\n",
       "      <td>...</td>\n",
       "      <td>0.0</td>\n",
       "      <td>20131.0</td>\n",
       "      <td>53.3</td>\n",
       "      <td>27.0</td>\n",
       "      <td>INDIVIDUAL</td>\n",
       "      <td>3.000000</td>\n",
       "      <td>0.0</td>\n",
       "      <td>1</td>\n",
       "      <td>2004</td>\n",
       "      <td>05113</td>\n",
       "    </tr>\n",
       "    <tr>\n",
       "      <th>2</th>\n",
       "      <td>15600.0</td>\n",
       "      <td>36</td>\n",
       "      <td>10.49</td>\n",
       "      <td>506.97</td>\n",
       "      <td>B3</td>\n",
       "      <td>RENT</td>\n",
       "      <td>43057.0</td>\n",
       "      <td>Source Verified</td>\n",
       "      <td>Fully Paid</td>\n",
       "      <td>credit_card</td>\n",
       "      <td>...</td>\n",
       "      <td>0.0</td>\n",
       "      <td>11987.0</td>\n",
       "      <td>92.2</td>\n",
       "      <td>26.0</td>\n",
       "      <td>INDIVIDUAL</td>\n",
       "      <td>0.000000</td>\n",
       "      <td>0.0</td>\n",
       "      <td>1</td>\n",
       "      <td>2007</td>\n",
       "      <td>05113</td>\n",
       "    </tr>\n",
       "    <tr>\n",
       "      <th>3</th>\n",
       "      <td>7200.0</td>\n",
       "      <td>36</td>\n",
       "      <td>6.49</td>\n",
       "      <td>220.65</td>\n",
       "      <td>A2</td>\n",
       "      <td>RENT</td>\n",
       "      <td>54000.0</td>\n",
       "      <td>Not Verified</td>\n",
       "      <td>Fully Paid</td>\n",
       "      <td>credit_card</td>\n",
       "      <td>...</td>\n",
       "      <td>0.0</td>\n",
       "      <td>5472.0</td>\n",
       "      <td>21.5</td>\n",
       "      <td>13.0</td>\n",
       "      <td>INDIVIDUAL</td>\n",
       "      <td>0.000000</td>\n",
       "      <td>0.0</td>\n",
       "      <td>1</td>\n",
       "      <td>2006</td>\n",
       "      <td>00813</td>\n",
       "    </tr>\n",
       "    <tr>\n",
       "      <th>4</th>\n",
       "      <td>24375.0</td>\n",
       "      <td>60</td>\n",
       "      <td>17.27</td>\n",
       "      <td>609.33</td>\n",
       "      <td>C5</td>\n",
       "      <td>MORTGAGE</td>\n",
       "      <td>55000.0</td>\n",
       "      <td>Verified</td>\n",
       "      <td>Charged Off</td>\n",
       "      <td>credit_card</td>\n",
       "      <td>...</td>\n",
       "      <td>0.0</td>\n",
       "      <td>24584.0</td>\n",
       "      <td>69.8</td>\n",
       "      <td>43.0</td>\n",
       "      <td>INDIVIDUAL</td>\n",
       "      <td>1.000000</td>\n",
       "      <td>0.0</td>\n",
       "      <td>0</td>\n",
       "      <td>1999</td>\n",
       "      <td>11650</td>\n",
       "    </tr>\n",
       "    <tr>\n",
       "      <th>...</th>\n",
       "      <td>...</td>\n",
       "      <td>...</td>\n",
       "      <td>...</td>\n",
       "      <td>...</td>\n",
       "      <td>...</td>\n",
       "      <td>...</td>\n",
       "      <td>...</td>\n",
       "      <td>...</td>\n",
       "      <td>...</td>\n",
       "      <td>...</td>\n",
       "      <td>...</td>\n",
       "      <td>...</td>\n",
       "      <td>...</td>\n",
       "      <td>...</td>\n",
       "      <td>...</td>\n",
       "      <td>...</td>\n",
       "      <td>...</td>\n",
       "      <td>...</td>\n",
       "      <td>...</td>\n",
       "      <td>...</td>\n",
       "      <td>...</td>\n",
       "    </tr>\n",
       "    <tr>\n",
       "      <th>396025</th>\n",
       "      <td>10000.0</td>\n",
       "      <td>60</td>\n",
       "      <td>10.99</td>\n",
       "      <td>217.38</td>\n",
       "      <td>B4</td>\n",
       "      <td>RENT</td>\n",
       "      <td>40000.0</td>\n",
       "      <td>Source Verified</td>\n",
       "      <td>Fully Paid</td>\n",
       "      <td>debt_consolidation</td>\n",
       "      <td>...</td>\n",
       "      <td>0.0</td>\n",
       "      <td>1990.0</td>\n",
       "      <td>34.3</td>\n",
       "      <td>23.0</td>\n",
       "      <td>INDIVIDUAL</td>\n",
       "      <td>0.000000</td>\n",
       "      <td>0.0</td>\n",
       "      <td>1</td>\n",
       "      <td>2004</td>\n",
       "      <td>30723</td>\n",
       "    </tr>\n",
       "    <tr>\n",
       "      <th>396026</th>\n",
       "      <td>21000.0</td>\n",
       "      <td>36</td>\n",
       "      <td>12.29</td>\n",
       "      <td>700.42</td>\n",
       "      <td>C1</td>\n",
       "      <td>MORTGAGE</td>\n",
       "      <td>110000.0</td>\n",
       "      <td>Source Verified</td>\n",
       "      <td>Fully Paid</td>\n",
       "      <td>debt_consolidation</td>\n",
       "      <td>...</td>\n",
       "      <td>0.0</td>\n",
       "      <td>43263.0</td>\n",
       "      <td>95.7</td>\n",
       "      <td>8.0</td>\n",
       "      <td>INDIVIDUAL</td>\n",
       "      <td>1.000000</td>\n",
       "      <td>0.0</td>\n",
       "      <td>1</td>\n",
       "      <td>2006</td>\n",
       "      <td>05113</td>\n",
       "    </tr>\n",
       "    <tr>\n",
       "      <th>396027</th>\n",
       "      <td>5000.0</td>\n",
       "      <td>36</td>\n",
       "      <td>9.99</td>\n",
       "      <td>161.32</td>\n",
       "      <td>B1</td>\n",
       "      <td>RENT</td>\n",
       "      <td>56500.0</td>\n",
       "      <td>Verified</td>\n",
       "      <td>Fully Paid</td>\n",
       "      <td>debt_consolidation</td>\n",
       "      <td>...</td>\n",
       "      <td>0.0</td>\n",
       "      <td>32704.0</td>\n",
       "      <td>66.9</td>\n",
       "      <td>23.0</td>\n",
       "      <td>INDIVIDUAL</td>\n",
       "      <td>0.000000</td>\n",
       "      <td>0.0</td>\n",
       "      <td>1</td>\n",
       "      <td>1997</td>\n",
       "      <td>70466</td>\n",
       "    </tr>\n",
       "    <tr>\n",
       "      <th>396028</th>\n",
       "      <td>21000.0</td>\n",
       "      <td>60</td>\n",
       "      <td>15.31</td>\n",
       "      <td>503.02</td>\n",
       "      <td>C2</td>\n",
       "      <td>MORTGAGE</td>\n",
       "      <td>64000.0</td>\n",
       "      <td>Verified</td>\n",
       "      <td>Fully Paid</td>\n",
       "      <td>debt_consolidation</td>\n",
       "      <td>...</td>\n",
       "      <td>0.0</td>\n",
       "      <td>15704.0</td>\n",
       "      <td>53.8</td>\n",
       "      <td>20.0</td>\n",
       "      <td>INDIVIDUAL</td>\n",
       "      <td>5.000000</td>\n",
       "      <td>0.0</td>\n",
       "      <td>1</td>\n",
       "      <td>1990</td>\n",
       "      <td>29597</td>\n",
       "    </tr>\n",
       "    <tr>\n",
       "      <th>396029</th>\n",
       "      <td>2000.0</td>\n",
       "      <td>36</td>\n",
       "      <td>13.61</td>\n",
       "      <td>67.98</td>\n",
       "      <td>C2</td>\n",
       "      <td>RENT</td>\n",
       "      <td>42996.0</td>\n",
       "      <td>Verified</td>\n",
       "      <td>Fully Paid</td>\n",
       "      <td>debt_consolidation</td>\n",
       "      <td>...</td>\n",
       "      <td>0.0</td>\n",
       "      <td>4292.0</td>\n",
       "      <td>91.3</td>\n",
       "      <td>19.0</td>\n",
       "      <td>INDIVIDUAL</td>\n",
       "      <td>1.892836</td>\n",
       "      <td>0.0</td>\n",
       "      <td>1</td>\n",
       "      <td>1998</td>\n",
       "      <td>48052</td>\n",
       "    </tr>\n",
       "  </tbody>\n",
       "</table>\n",
       "<p>395219 rows × 22 columns</p>\n",
       "</div>"
      ],
      "text/plain": [
       "        loan_amnt  term  int_rate  installment sub_grade home_ownership  \\\n",
       "0         10000.0    36     11.44       329.48        B4           RENT   \n",
       "1          8000.0    36     11.99       265.68        B5       MORTGAGE   \n",
       "2         15600.0    36     10.49       506.97        B3           RENT   \n",
       "3          7200.0    36      6.49       220.65        A2           RENT   \n",
       "4         24375.0    60     17.27       609.33        C5       MORTGAGE   \n",
       "...           ...   ...       ...          ...       ...            ...   \n",
       "396025    10000.0    60     10.99       217.38        B4           RENT   \n",
       "396026    21000.0    36     12.29       700.42        C1       MORTGAGE   \n",
       "396027     5000.0    36      9.99       161.32        B1           RENT   \n",
       "396028    21000.0    60     15.31       503.02        C2       MORTGAGE   \n",
       "396029     2000.0    36     13.61        67.98        C2           RENT   \n",
       "\n",
       "        annual_inc verification_status  loan_status             purpose  ...  \\\n",
       "0         117000.0        Not Verified   Fully Paid            vacation  ...   \n",
       "1          65000.0        Not Verified   Fully Paid  debt_consolidation  ...   \n",
       "2          43057.0     Source Verified   Fully Paid         credit_card  ...   \n",
       "3          54000.0        Not Verified   Fully Paid         credit_card  ...   \n",
       "4          55000.0            Verified  Charged Off         credit_card  ...   \n",
       "...            ...                 ...          ...                 ...  ...   \n",
       "396025     40000.0     Source Verified   Fully Paid  debt_consolidation  ...   \n",
       "396026    110000.0     Source Verified   Fully Paid  debt_consolidation  ...   \n",
       "396027     56500.0            Verified   Fully Paid  debt_consolidation  ...   \n",
       "396028     64000.0            Verified   Fully Paid  debt_consolidation  ...   \n",
       "396029     42996.0            Verified   Fully Paid  debt_consolidation  ...   \n",
       "\n",
       "        pub_rec  revol_bal  revol_util  total_acc  application_type  mort_acc  \\\n",
       "0           0.0    36369.0        41.8       25.0        INDIVIDUAL  0.000000   \n",
       "1           0.0    20131.0        53.3       27.0        INDIVIDUAL  3.000000   \n",
       "2           0.0    11987.0        92.2       26.0        INDIVIDUAL  0.000000   \n",
       "3           0.0     5472.0        21.5       13.0        INDIVIDUAL  0.000000   \n",
       "4           0.0    24584.0        69.8       43.0        INDIVIDUAL  1.000000   \n",
       "...         ...        ...         ...        ...               ...       ...   \n",
       "396025      0.0     1990.0        34.3       23.0        INDIVIDUAL  0.000000   \n",
       "396026      0.0    43263.0        95.7        8.0        INDIVIDUAL  1.000000   \n",
       "396027      0.0    32704.0        66.9       23.0        INDIVIDUAL  0.000000   \n",
       "396028      0.0    15704.0        53.8       20.0        INDIVIDUAL  5.000000   \n",
       "396029      0.0     4292.0        91.3       19.0        INDIVIDUAL  1.892836   \n",
       "\n",
       "       pub_rec_bankruptcies  status_numeric  earliest_cr_yr  zipcodes  \n",
       "0                       0.0               1            1990     22690  \n",
       "1                       0.0               1            2004     05113  \n",
       "2                       0.0               1            2007     05113  \n",
       "3                       0.0               1            2006     00813  \n",
       "4                       0.0               0            1999     11650  \n",
       "...                     ...             ...             ...       ...  \n",
       "396025                  0.0               1            2004     30723  \n",
       "396026                  0.0               1            2006     05113  \n",
       "396027                  0.0               1            1997     70466  \n",
       "396028                  0.0               1            1990     29597  \n",
       "396029                  0.0               1            1998     48052  \n",
       "\n",
       "[395219 rows x 22 columns]"
      ]
     },
     "execution_count": 75,
     "metadata": {},
     "output_type": "execute_result"
    }
   ],
   "source": [
    "df"
   ]
  },
  {
   "cell_type": "code",
   "execution_count": 76,
   "id": "7f8bbd1a",
   "metadata": {},
   "outputs": [
    {
     "data": {
      "text/plain": [
       "zipcodes_ 11650   -0.345878\n",
       "zipcodes_ 93700   -0.344542\n",
       "zipcodes_ 86630   -0.341872\n",
       "int_rate          -0.247826\n",
       "term              -0.173374\n",
       "                     ...   \n",
       "sub_grade_A5       0.062046\n",
       "sub_grade_A4       0.064602\n",
       "mort_acc           0.075991\n",
       "zipcodes_ 05113    0.177736\n",
       "zipcodes_ 29597    0.177942\n",
       "Name: status_numeric, Length: 77, dtype: float64"
      ]
     },
     "execution_count": 76,
     "metadata": {},
     "output_type": "execute_result"
    }
   ],
   "source": [
    "df_encoded.corr(numeric_only=True)['status_numeric'].sort_values().drop('status_numeric')"
   ]
  },
  {
   "cell_type": "markdown",
   "id": "450fd307",
   "metadata": {},
   "source": [
    "## Data preprocessing"
   ]
  },
  {
   "cell_type": "code",
   "execution_count": 77,
   "id": "0704719c",
   "metadata": {},
   "outputs": [
    {
     "data": {
      "text/plain": [
       "array([[1.000e+04, 3.600e+01, 1.144e+01, ..., 0.000e+00, 0.000e+00,\n",
       "        0.000e+00],\n",
       "       [8.000e+03, 3.600e+01, 1.199e+01, ..., 0.000e+00, 0.000e+00,\n",
       "        0.000e+00],\n",
       "       [1.560e+04, 3.600e+01, 1.049e+01, ..., 0.000e+00, 0.000e+00,\n",
       "        0.000e+00],\n",
       "       ...,\n",
       "       [5.000e+03, 3.600e+01, 9.990e+00, ..., 1.000e+00, 0.000e+00,\n",
       "        0.000e+00],\n",
       "       [2.100e+04, 6.000e+01, 1.531e+01, ..., 0.000e+00, 0.000e+00,\n",
       "        0.000e+00],\n",
       "       [2.000e+03, 3.600e+01, 1.361e+01, ..., 0.000e+00, 0.000e+00,\n",
       "        0.000e+00]])"
      ]
     },
     "execution_count": 77,
     "metadata": {},
     "output_type": "execute_result"
    }
   ],
   "source": [
    "X = df_encoded.drop(['loan_status','status_numeric'], axis=1).values\n",
    "X"
   ]
  },
  {
   "cell_type": "code",
   "execution_count": 78,
   "id": "44a3d42d",
   "metadata": {},
   "outputs": [
    {
     "data": {
      "text/plain": [
       "array([1, 1, 1, ..., 1, 1, 1], dtype=int64)"
      ]
     },
     "execution_count": 78,
     "metadata": {},
     "output_type": "execute_result"
    }
   ],
   "source": [
    "y = df_encoded['status_numeric'].values\n",
    "y"
   ]
  },
  {
   "cell_type": "code",
   "execution_count": 79,
   "id": "ccadf729",
   "metadata": {},
   "outputs": [],
   "source": [
    "from sklearn.model_selection import train_test_split"
   ]
  },
  {
   "cell_type": "code",
   "execution_count": 80,
   "id": "1851dd39",
   "metadata": {},
   "outputs": [],
   "source": [
    "X_train, X_test, y_train, y_test = train_test_split(X, y, test_size = 0.3)"
   ]
  },
  {
   "cell_type": "markdown",
   "id": "3ca79105",
   "metadata": {},
   "source": [
    "### scale features"
   ]
  },
  {
   "cell_type": "code",
   "execution_count": 81,
   "id": "72bf1c71",
   "metadata": {},
   "outputs": [],
   "source": [
    "from sklearn.preprocessing import MinMaxScaler"
   ]
  },
  {
   "cell_type": "code",
   "execution_count": 82,
   "id": "223d1acb",
   "metadata": {},
   "outputs": [],
   "source": [
    "scaler = MinMaxScaler()"
   ]
  },
  {
   "cell_type": "code",
   "execution_count": 83,
   "id": "d670931e",
   "metadata": {},
   "outputs": [
    {
     "data": {
      "text/html": [
       "<style>#sk-container-id-1 {color: black;}#sk-container-id-1 pre{padding: 0;}#sk-container-id-1 div.sk-toggleable {background-color: white;}#sk-container-id-1 label.sk-toggleable__label {cursor: pointer;display: block;width: 100%;margin-bottom: 0;padding: 0.3em;box-sizing: border-box;text-align: center;}#sk-container-id-1 label.sk-toggleable__label-arrow:before {content: \"▸\";float: left;margin-right: 0.25em;color: #696969;}#sk-container-id-1 label.sk-toggleable__label-arrow:hover:before {color: black;}#sk-container-id-1 div.sk-estimator:hover label.sk-toggleable__label-arrow:before {color: black;}#sk-container-id-1 div.sk-toggleable__content {max-height: 0;max-width: 0;overflow: hidden;text-align: left;background-color: #f0f8ff;}#sk-container-id-1 div.sk-toggleable__content pre {margin: 0.2em;color: black;border-radius: 0.25em;background-color: #f0f8ff;}#sk-container-id-1 input.sk-toggleable__control:checked~div.sk-toggleable__content {max-height: 200px;max-width: 100%;overflow: auto;}#sk-container-id-1 input.sk-toggleable__control:checked~label.sk-toggleable__label-arrow:before {content: \"▾\";}#sk-container-id-1 div.sk-estimator input.sk-toggleable__control:checked~label.sk-toggleable__label {background-color: #d4ebff;}#sk-container-id-1 div.sk-label input.sk-toggleable__control:checked~label.sk-toggleable__label {background-color: #d4ebff;}#sk-container-id-1 input.sk-hidden--visually {border: 0;clip: rect(1px 1px 1px 1px);clip: rect(1px, 1px, 1px, 1px);height: 1px;margin: -1px;overflow: hidden;padding: 0;position: absolute;width: 1px;}#sk-container-id-1 div.sk-estimator {font-family: monospace;background-color: #f0f8ff;border: 1px dotted black;border-radius: 0.25em;box-sizing: border-box;margin-bottom: 0.5em;}#sk-container-id-1 div.sk-estimator:hover {background-color: #d4ebff;}#sk-container-id-1 div.sk-parallel-item::after {content: \"\";width: 100%;border-bottom: 1px solid gray;flex-grow: 1;}#sk-container-id-1 div.sk-label:hover label.sk-toggleable__label {background-color: #d4ebff;}#sk-container-id-1 div.sk-serial::before {content: \"\";position: absolute;border-left: 1px solid gray;box-sizing: border-box;top: 0;bottom: 0;left: 50%;z-index: 0;}#sk-container-id-1 div.sk-serial {display: flex;flex-direction: column;align-items: center;background-color: white;padding-right: 0.2em;padding-left: 0.2em;position: relative;}#sk-container-id-1 div.sk-item {position: relative;z-index: 1;}#sk-container-id-1 div.sk-parallel {display: flex;align-items: stretch;justify-content: center;background-color: white;position: relative;}#sk-container-id-1 div.sk-item::before, #sk-container-id-1 div.sk-parallel-item::before {content: \"\";position: absolute;border-left: 1px solid gray;box-sizing: border-box;top: 0;bottom: 0;left: 50%;z-index: -1;}#sk-container-id-1 div.sk-parallel-item {display: flex;flex-direction: column;z-index: 1;position: relative;background-color: white;}#sk-container-id-1 div.sk-parallel-item:first-child::after {align-self: flex-end;width: 50%;}#sk-container-id-1 div.sk-parallel-item:last-child::after {align-self: flex-start;width: 50%;}#sk-container-id-1 div.sk-parallel-item:only-child::after {width: 0;}#sk-container-id-1 div.sk-dashed-wrapped {border: 1px dashed gray;margin: 0 0.4em 0.5em 0.4em;box-sizing: border-box;padding-bottom: 0.4em;background-color: white;}#sk-container-id-1 div.sk-label label {font-family: monospace;font-weight: bold;display: inline-block;line-height: 1.2em;}#sk-container-id-1 div.sk-label-container {text-align: center;}#sk-container-id-1 div.sk-container {/* jupyter's `normalize.less` sets `[hidden] { display: none; }` but bootstrap.min.css set `[hidden] { display: none !important; }` so we also need the `!important` here to be able to override the default hidden behavior on the sphinx rendered scikit-learn.org. See: https://github.com/scikit-learn/scikit-learn/issues/21755 */display: inline-block !important;position: relative;}#sk-container-id-1 div.sk-text-repr-fallback {display: none;}</style><div id=\"sk-container-id-1\" class=\"sk-top-container\"><div class=\"sk-text-repr-fallback\"><pre>MinMaxScaler()</pre><b>In a Jupyter environment, please rerun this cell to show the HTML representation or trust the notebook. <br />On GitHub, the HTML representation is unable to render, please try loading this page with nbviewer.org.</b></div><div class=\"sk-container\" hidden><div class=\"sk-item\"><div class=\"sk-estimator sk-toggleable\"><input class=\"sk-toggleable__control sk-hidden--visually\" id=\"sk-estimator-id-1\" type=\"checkbox\" checked><label for=\"sk-estimator-id-1\" class=\"sk-toggleable__label sk-toggleable__label-arrow\">MinMaxScaler</label><div class=\"sk-toggleable__content\"><pre>MinMaxScaler()</pre></div></div></div></div></div>"
      ],
      "text/plain": [
       "MinMaxScaler()"
      ]
     },
     "execution_count": 83,
     "metadata": {},
     "output_type": "execute_result"
    }
   ],
   "source": [
    "scaler.fit(X_train)"
   ]
  },
  {
   "cell_type": "code",
   "execution_count": 84,
   "id": "2ae70bed",
   "metadata": {},
   "outputs": [
    {
     "data": {
      "text/plain": [
       "array([[0.87341772, 1.        , 0.37631476, ..., 0.        , 0.        ,\n",
       "        0.        ],\n",
       "       [0.62025316, 1.        , 0.32489287, ..., 0.        , 0.        ,\n",
       "        1.        ],\n",
       "       [0.36708861, 0.        , 0.25983638, ..., 0.        , 0.        ,\n",
       "        0.        ],\n",
       "       ...,\n",
       "       [0.13924051, 0.        , 0.4273471 , ..., 1.        , 0.        ,\n",
       "        0.        ],\n",
       "       [0.87341772, 0.        , 0.20724581, ..., 1.        , 0.        ,\n",
       "        0.        ],\n",
       "       [0.24050633, 1.        , 0.46552396, ..., 0.        , 0.        ,\n",
       "        0.        ]])"
      ]
     },
     "execution_count": 84,
     "metadata": {},
     "output_type": "execute_result"
    }
   ],
   "source": [
    "scaler.transform(X_train)"
   ]
  },
  {
   "cell_type": "code",
   "execution_count": 85,
   "id": "b6746b42",
   "metadata": {},
   "outputs": [
    {
     "data": {
      "text/plain": [
       "array([[0.26455696, 1.        , 0.40007791, ..., 0.        , 0.        ,\n",
       "        0.        ],\n",
       "       [0.11898734, 0.        , 0.22088041, ..., 0.        , 0.        ,\n",
       "        0.        ],\n",
       "       [0.21518987, 0.        , 0.08959875, ..., 0.        , 0.        ,\n",
       "        0.        ],\n",
       "       ...,\n",
       "       [0.51898734, 0.        , 0.28320997, ..., 1.        , 0.        ,\n",
       "        0.        ],\n",
       "       [0.46392405, 1.        , 0.25983638, ..., 0.        , 0.        ,\n",
       "        0.        ],\n",
       "       [0.12658228, 0.        , 0.46552396, ..., 1.        , 0.        ,\n",
       "        0.        ]])"
      ]
     },
     "execution_count": 85,
     "metadata": {},
     "output_type": "execute_result"
    }
   ],
   "source": [
    "scaler.transform(X_test)"
   ]
  },
  {
   "cell_type": "markdown",
   "id": "ab949999",
   "metadata": {},
   "source": [
    "## Train model"
   ]
  },
  {
   "cell_type": "code",
   "execution_count": 86,
   "id": "0e3c3182",
   "metadata": {},
   "outputs": [],
   "source": [
    "from tensorflow.keras.models import Sequential\n",
    "from tensorflow.keras.layers import Dense, Dropout\n",
    "from tensorflow.keras.callbacks import EarlyStopping"
   ]
  },
  {
   "cell_type": "code",
   "execution_count": 87,
   "id": "2f3ededd",
   "metadata": {},
   "outputs": [
    {
     "data": {
      "text/plain": [
       "(276653, 77)"
      ]
     },
     "execution_count": 87,
     "metadata": {},
     "output_type": "execute_result"
    }
   ],
   "source": [
    "X_train.shape"
   ]
  },
  {
   "cell_type": "code",
   "execution_count": 88,
   "id": "2515f678",
   "metadata": {},
   "outputs": [
    {
     "data": {
      "text/plain": [
       "(118566, 77)"
      ]
     },
     "execution_count": 88,
     "metadata": {},
     "output_type": "execute_result"
    }
   ],
   "source": [
    "X_test.shape"
   ]
  },
  {
   "cell_type": "code",
   "execution_count": 89,
   "id": "1b36b1db",
   "metadata": {},
   "outputs": [
    {
     "data": {
      "text/plain": [
       "(276653,)"
      ]
     },
     "execution_count": 89,
     "metadata": {},
     "output_type": "execute_result"
    }
   ],
   "source": [
    "y_train.shape"
   ]
  },
  {
   "cell_type": "code",
   "execution_count": 90,
   "id": "9b50488e",
   "metadata": {},
   "outputs": [
    {
     "data": {
      "text/plain": [
       "(118566,)"
      ]
     },
     "execution_count": 90,
     "metadata": {},
     "output_type": "execute_result"
    }
   ],
   "source": [
    "y_test.shape"
   ]
  },
  {
   "cell_type": "code",
   "execution_count": 91,
   "id": "37a5aaa2",
   "metadata": {},
   "outputs": [
    {
     "data": {
      "text/plain": [
       "1    95206\n",
       "0    23360\n",
       "Name: count, dtype: int64"
      ]
     },
     "execution_count": 91,
     "metadata": {},
     "output_type": "execute_result"
    }
   ],
   "source": [
    "pd.DataFrame(y_test).value_counts()"
   ]
  },
  {
   "cell_type": "code",
   "execution_count": 92,
   "id": "479bc9df",
   "metadata": {},
   "outputs": [
    {
     "data": {
      "text/plain": [
       "1    0.80422\n",
       "0    0.19578\n",
       "Name: count, dtype: float64"
      ]
     },
     "execution_count": 92,
     "metadata": {},
     "output_type": "execute_result"
    }
   ],
   "source": [
    "pd.DataFrame(y_train).value_counts()/len(y_train)"
   ]
  },
  {
   "cell_type": "code",
   "execution_count": 93,
   "id": "078d141b",
   "metadata": {},
   "outputs": [],
   "source": [
    "# For binary classification:\n",
    "# Output activation = sigmoid\n",
    "# optimizer ='adam', loss ='binary_crossentropy'\n",
    "model = Sequential()\n",
    "\n",
    "model.add(Dense(77, activation = 'relu'))\n",
    "model.add(Dropout(0.2)) #typically switch off somewhere between 0.2 and 0,5 randomly\n",
    "model.add(Dense(39, activation = 'relu'))\n",
    "model.add(Dropout(0.2)) #typically switch off somewhere between 0.2 and 0,5 randomly\n",
    "model.add(Dense(20, activation = 'relu'))\n",
    "model.add(Dropout(0.2)) #typically switch off somewhere between 0.2 and 0,5 randomly\n",
    "#binary classification so activation sigmoid\n",
    "model.add(Dense(1, activation = 'sigmoid'))\n",
    "\n",
    "model.compile(optimizer ='adam', loss ='binary_crossentropy')"
   ]
  },
  {
   "cell_type": "code",
   "execution_count": 94,
   "id": "bd26f609",
   "metadata": {},
   "outputs": [],
   "source": [
    "#early_stop = EarlyStopping(monitor ='val_loss', mode = 'min', verbose =1, patience=25) "
   ]
  },
  {
   "cell_type": "code",
   "execution_count": 95,
   "id": "2c6dc028",
   "metadata": {},
   "outputs": [
    {
     "name": "stdout",
     "output_type": "stream",
     "text": [
      "Epoch 1/25\n",
      "\u001b[1m1081/1081\u001b[0m \u001b[32m━━━━━━━━━━━━━━━━━━━━\u001b[0m\u001b[37m\u001b[0m \u001b[1m15s\u001b[0m 9ms/step - loss: 127.1053 - val_loss: 0.5035\n",
      "Epoch 2/25\n",
      "\u001b[1m1081/1081\u001b[0m \u001b[32m━━━━━━━━━━━━━━━━━━━━\u001b[0m\u001b[37m\u001b[0m \u001b[1m9s\u001b[0m 8ms/step - loss: 0.7329 - val_loss: 0.4981\n",
      "Epoch 3/25\n",
      "\u001b[1m1081/1081\u001b[0m \u001b[32m━━━━━━━━━━━━━━━━━━━━\u001b[0m\u001b[37m\u001b[0m \u001b[1m10s\u001b[0m 8ms/step - loss: 0.5335 - val_loss: 0.4962\n",
      "Epoch 4/25\n",
      "\u001b[1m1081/1081\u001b[0m \u001b[32m━━━━━━━━━━━━━━━━━━━━\u001b[0m\u001b[37m\u001b[0m \u001b[1m10s\u001b[0m 7ms/step - loss: 0.5103 - val_loss: 0.4963\n",
      "Epoch 5/25\n",
      "\u001b[1m1081/1081\u001b[0m \u001b[32m━━━━━━━━━━━━━━━━━━━━\u001b[0m\u001b[37m\u001b[0m \u001b[1m11s\u001b[0m 8ms/step - loss: 0.5075 - val_loss: 0.4963\n",
      "Epoch 6/25\n",
      "\u001b[1m1081/1081\u001b[0m \u001b[32m━━━━━━━━━━━━━━━━━━━━\u001b[0m\u001b[37m\u001b[0m \u001b[1m10s\u001b[0m 8ms/step - loss: 0.5059 - val_loss: 0.4962\n",
      "Epoch 7/25\n",
      "\u001b[1m1081/1081\u001b[0m \u001b[32m━━━━━━━━━━━━━━━━━━━━\u001b[0m\u001b[37m\u001b[0m \u001b[1m10s\u001b[0m 8ms/step - loss: 0.5234 - val_loss: 0.4963\n",
      "Epoch 8/25\n",
      "\u001b[1m1081/1081\u001b[0m \u001b[32m━━━━━━━━━━━━━━━━━━━━\u001b[0m\u001b[37m\u001b[0m \u001b[1m10s\u001b[0m 8ms/step - loss: 0.4932 - val_loss: 0.4962\n",
      "Epoch 9/25\n",
      "\u001b[1m1081/1081\u001b[0m \u001b[32m━━━━━━━━━━━━━━━━━━━━\u001b[0m\u001b[37m\u001b[0m \u001b[1m11s\u001b[0m 8ms/step - loss: 0.4961 - val_loss: 0.4963\n",
      "Epoch 10/25\n",
      "\u001b[1m1081/1081\u001b[0m \u001b[32m━━━━━━━━━━━━━━━━━━━━\u001b[0m\u001b[37m\u001b[0m \u001b[1m10s\u001b[0m 8ms/step - loss: 0.4972 - val_loss: 0.4962\n",
      "Epoch 11/25\n",
      "\u001b[1m1081/1081\u001b[0m \u001b[32m━━━━━━━━━━━━━━━━━━━━\u001b[0m\u001b[37m\u001b[0m \u001b[1m11s\u001b[0m 8ms/step - loss: 0.5007 - val_loss: 0.4963\n",
      "Epoch 12/25\n",
      "\u001b[1m1081/1081\u001b[0m \u001b[32m━━━━━━━━━━━━━━━━━━━━\u001b[0m\u001b[37m\u001b[0m \u001b[1m10s\u001b[0m 8ms/step - loss: 0.4951 - val_loss: 0.4962\n",
      "Epoch 13/25\n",
      "\u001b[1m1081/1081\u001b[0m \u001b[32m━━━━━━━━━━━━━━━━━━━━\u001b[0m\u001b[37m\u001b[0m \u001b[1m11s\u001b[0m 8ms/step - loss: 0.4977 - val_loss: 0.4963\n",
      "Epoch 14/25\n",
      "\u001b[1m1081/1081\u001b[0m \u001b[32m━━━━━━━━━━━━━━━━━━━━\u001b[0m\u001b[37m\u001b[0m \u001b[1m10s\u001b[0m 8ms/step - loss: 0.4946 - val_loss: 0.4963\n",
      "Epoch 15/25\n",
      "\u001b[1m1081/1081\u001b[0m \u001b[32m━━━━━━━━━━━━━━━━━━━━\u001b[0m\u001b[37m\u001b[0m \u001b[1m11s\u001b[0m 9ms/step - loss: 0.4986 - val_loss: 0.4963\n",
      "Epoch 16/25\n",
      "\u001b[1m1081/1081\u001b[0m \u001b[32m━━━━━━━━━━━━━━━━━━━━\u001b[0m\u001b[37m\u001b[0m \u001b[1m10s\u001b[0m 9ms/step - loss: 0.5016 - val_loss: 0.4963\n",
      "Epoch 17/25\n",
      "\u001b[1m1081/1081\u001b[0m \u001b[32m━━━━━━━━━━━━━━━━━━━━\u001b[0m\u001b[37m\u001b[0m \u001b[1m13s\u001b[0m 11ms/step - loss: 0.4923 - val_loss: 0.4963\n",
      "Epoch 18/25\n",
      "\u001b[1m1081/1081\u001b[0m \u001b[32m━━━━━━━━━━━━━━━━━━━━\u001b[0m\u001b[37m\u001b[0m \u001b[1m17s\u001b[0m 8ms/step - loss: 0.4935 - val_loss: 0.4962\n",
      "Epoch 19/25\n",
      "\u001b[1m1081/1081\u001b[0m \u001b[32m━━━━━━━━━━━━━━━━━━━━\u001b[0m\u001b[37m\u001b[0m \u001b[1m11s\u001b[0m 9ms/step - loss: 0.4941 - val_loss: 0.4962\n",
      "Epoch 20/25\n",
      "\u001b[1m1081/1081\u001b[0m \u001b[32m━━━━━━━━━━━━━━━━━━━━\u001b[0m\u001b[37m\u001b[0m \u001b[1m11s\u001b[0m 10ms/step - loss: 0.4945 - val_loss: 0.4962\n",
      "Epoch 21/25\n",
      "\u001b[1m1081/1081\u001b[0m \u001b[32m━━━━━━━━━━━━━━━━━━━━\u001b[0m\u001b[37m\u001b[0m \u001b[1m23s\u001b[0m 12ms/step - loss: 0.4961 - val_loss: 0.4963\n",
      "Epoch 22/25\n",
      "\u001b[1m1081/1081\u001b[0m \u001b[32m━━━━━━━━━━━━━━━━━━━━\u001b[0m\u001b[37m\u001b[0m \u001b[1m17s\u001b[0m 8ms/step - loss: 0.4957 - val_loss: 0.4962\n",
      "Epoch 23/25\n",
      "\u001b[1m1081/1081\u001b[0m \u001b[32m━━━━━━━━━━━━━━━━━━━━\u001b[0m\u001b[37m\u001b[0m \u001b[1m10s\u001b[0m 8ms/step - loss: 0.4924 - val_loss: 0.4963\n",
      "Epoch 24/25\n",
      "\u001b[1m1081/1081\u001b[0m \u001b[32m━━━━━━━━━━━━━━━━━━━━\u001b[0m\u001b[37m\u001b[0m \u001b[1m11s\u001b[0m 9ms/step - loss: 0.4940 - val_loss: 0.4962\n",
      "Epoch 25/25\n",
      "\u001b[1m1081/1081\u001b[0m \u001b[32m━━━━━━━━━━━━━━━━━━━━\u001b[0m\u001b[37m\u001b[0m \u001b[1m11s\u001b[0m 9ms/step - loss: 0.4959 - val_loss: 0.4963\n"
     ]
    },
    {
     "data": {
      "text/plain": [
       "<keras.src.callbacks.history.History at 0x1ba82050f90>"
      ]
     },
     "execution_count": 95,
     "metadata": {},
     "output_type": "execute_result"
    }
   ],
   "source": [
    "model.fit(x=X_train, y=y_train, \n",
    "          validation_data = (X_test,y_test), epochs=25,\n",
    "          batch_size=256)"
   ]
  },
  {
   "cell_type": "code",
   "execution_count": 96,
   "id": "4a59e443",
   "metadata": {},
   "outputs": [
    {
     "data": {
      "text/plain": [
       "<Axes: >"
      ]
     },
     "execution_count": 96,
     "metadata": {},
     "output_type": "execute_result"
    },
    {
     "data": {
      "image/png": "[encoded data removed]",
      "text/plain": [
       "<Figure size 640x480 with 1 Axes>"
      ]
     },
     "metadata": {},
     "output_type": "display_data"
    }
   ],
   "source": [
    "pd.DataFrame(model.history.history).plot()"
   ]
  },
  {
   "cell_type": "markdown",
   "id": "8f8636c1",
   "metadata": {},
   "source": [
    "## Make predictions and evaluate"
   ]
  },
  {
   "cell_type": "code",
   "execution_count": 97,
   "id": "9e99fa6b",
   "metadata": {},
   "outputs": [
    {
     "name": "stdout",
     "output_type": "stream",
     "text": [
      "\u001b[1m3706/3706\u001b[0m \u001b[32m━━━━━━━━━━━━━━━━━━━━\u001b[0m\u001b[37m\u001b[0m \u001b[1m14s\u001b[0m 4ms/step\n"
     ]
    }
   ],
   "source": [
    "raw_predictions = model.predict(X_test)"
   ]
  },
  {
   "cell_type": "code",
   "execution_count": 98,
   "id": "bce657eb",
   "metadata": {},
   "outputs": [
    {
     "data": {
      "text/plain": [
       "0.805176    118566\n",
       "Name: count, dtype: int64"
      ]
     },
     "execution_count": 98,
     "metadata": {},
     "output_type": "execute_result"
    }
   ],
   "source": [
    "pd.DataFrame(raw_predictions).value_counts()"
   ]
  },
  {
   "cell_type": "code",
   "execution_count": 99,
   "id": "cf42d5af",
   "metadata": {},
   "outputs": [],
   "source": [
    "predictions = (raw_predictions > 0.5) * 1"
   ]
  },
  {
   "cell_type": "code",
   "execution_count": 100,
   "id": "89836bc0",
   "metadata": {},
   "outputs": [
    {
     "data": {
      "text/plain": [
       "1    118566\n",
       "Name: count, dtype: int64"
      ]
     },
     "execution_count": 100,
     "metadata": {},
     "output_type": "execute_result"
    }
   ],
   "source": [
    "pd.DataFrame(predictions).value_counts()"
   ]
  },
  {
   "cell_type": "code",
   "execution_count": 101,
   "id": "08a87f20",
   "metadata": {},
   "outputs": [],
   "source": [
    "from sklearn.metrics import classification_report, confusion_matrix"
   ]
  },
  {
   "cell_type": "code",
   "execution_count": 102,
   "id": "292dc475",
   "metadata": {},
   "outputs": [
    {
     "name": "stdout",
     "output_type": "stream",
     "text": [
      "              precision    recall  f1-score   support\n",
      "\n",
      "           0       0.00      0.00      0.00     23360\n",
      "           1       0.80      1.00      0.89     95206\n",
      "\n",
      "    accuracy                           0.80    118566\n",
      "   macro avg       0.40      0.50      0.45    118566\n",
      "weighted avg       0.64      0.80      0.72    118566\n",
      "\n",
      "\n",
      "\n",
      "[[    0 23360]\n",
      " [    0 95206]]\n"
     ]
    }
   ],
   "source": [
    "print(classification_report(y_test, predictions))\n",
    "print('\\n')\n",
    "print(confusion_matrix(y_test, predictions))"
   ]
  },
  {
   "cell_type": "markdown",
   "id": "b381968f",
   "metadata": {},
   "source": [
    "## Model produces results that are no better than a guess \n",
    "First run of model returned results that were no better than a guess - all predictions were 0.8 which translated to binary classification of 1. There were 157 features. I did the following but none of these actions improved the model output.\n",
    "\n",
    "1. When one-hot encoding set dropfirst = True - this didnt improve results  - reduced to 148 features\n",
    "2. Checked that the numeric column for loan_status has the correct values\n",
    "3. removed issue_d - reduced to 137 features\n",
    "4. Retained mort_acc - I had previously deleted this - filled missing values with mean values for each loan status. Removed small number of remaining rows that contained missing values in revol_util and pub_rec_bankruptcies. Change term and earliest credit year to integers. Down to 77 features so removed a hidden layer\n",
    "5. Changed the model.fit setting so that they are the same as teh project solution notebook"
   ]
  },
  {
   "cell_type": "code",
   "execution_count": null,
   "id": "9b33177a",
   "metadata": {},
   "outputs": [],
   "source": []
  }
 ],
 "metadata": {
  "kernelspec": {
   "display_name": "Python 3 (ipykernel)",
   "language": "python",
   "name": "python3"
  },
  "language_info": {
   "codemirror_mode": {
    "name": "ipython",
    "version": 3
   },
   "file_extension": ".py",
   "mimetype": "text/x-python",
   "name": "python",
   "nbconvert_exporter": "python",
   "pygments_lexer": "ipython3",
   "version": "3.11.5"
  }
 },
 "nbformat": 4,
 "nbformat_minor": 5
}
